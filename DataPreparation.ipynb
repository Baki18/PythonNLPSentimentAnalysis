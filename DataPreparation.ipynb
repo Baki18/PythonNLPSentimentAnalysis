{
 "cells": [
  {
   "cell_type": "code",
   "execution_count": 54,
   "id": "3eecafa2",
   "metadata": {},
   "outputs": [],
   "source": [
    "import pandas as pd\n",
    "import numpy as np\n",
    "from warnings import filterwarnings\n",
    "filterwarnings('ignore')"
   ]
  },
  {
   "cell_type": "code",
   "execution_count": 55,
   "id": "fd02b811",
   "metadata": {},
   "outputs": [],
   "source": [
    "pd.set_option('display.max_columns',500)\n",
    "pd.set_option('display.max_rows',500)"
   ]
  },
  {
   "cell_type": "code",
   "execution_count": 56,
   "id": "45df377f",
   "metadata": {},
   "outputs": [],
   "source": [
    "data = pd.read_csv('AirlineReviews.csv')"
   ]
  },
  {
   "cell_type": "code",
   "execution_count": 57,
   "id": "d6229e2a",
   "metadata": {},
   "outputs": [
    {
     "data": {
      "text/plain": [
       "(129455, 22)"
      ]
     },
     "execution_count": 57,
     "metadata": {},
     "output_type": "execute_result"
    }
   ],
   "source": [
    "data.shape"
   ]
  },
  {
   "cell_type": "code",
   "execution_count": 58,
   "id": "0edd024c",
   "metadata": {
    "scrolled": false
   },
   "outputs": [
    {
     "data": {
      "text/html": [
       "<div>\n",
       "<style scoped>\n",
       "    .dataframe tbody tr th:only-of-type {\n",
       "        vertical-align: middle;\n",
       "    }\n",
       "\n",
       "    .dataframe tbody tr th {\n",
       "        vertical-align: top;\n",
       "    }\n",
       "\n",
       "    .dataframe thead th {\n",
       "        text-align: right;\n",
       "    }\n",
       "</style>\n",
       "<table border=\"1\" class=\"dataframe\">\n",
       "  <thead>\n",
       "    <tr style=\"text-align: right;\">\n",
       "      <th></th>\n",
       "      <th>Aircraft</th>\n",
       "      <th>AirlineName</th>\n",
       "      <th>CabinType</th>\n",
       "      <th>DateFlown</th>\n",
       "      <th>DatePub</th>\n",
       "      <th>EntertainmentRating</th>\n",
       "      <th>FoodRating</th>\n",
       "      <th>GroundServiceRating</th>\n",
       "      <th>OriginCountry</th>\n",
       "      <th>OverallScore</th>\n",
       "      <th>Recommended</th>\n",
       "      <th>Review</th>\n",
       "      <th>Route</th>\n",
       "      <th>SeatComfortRating</th>\n",
       "      <th>ServiceRating</th>\n",
       "      <th>Slug</th>\n",
       "      <th>Title</th>\n",
       "      <th>TravelType</th>\n",
       "      <th>TripVerified</th>\n",
       "      <th>ValueRating</th>\n",
       "      <th>WifiRating</th>\n",
       "      <th>unique_id</th>\n",
       "    </tr>\n",
       "  </thead>\n",
       "  <tbody>\n",
       "    <tr>\n",
       "      <th>58488</th>\n",
       "      <td>NaN</td>\n",
       "      <td>Frontier Airlines</td>\n",
       "      <td>Economy Class</td>\n",
       "      <td>May 2016</td>\n",
       "      <td>31st May 2016</td>\n",
       "      <td>0</td>\n",
       "      <td>0</td>\n",
       "      <td>1</td>\n",
       "      <td>UnitedStates</td>\n",
       "      <td>1.0</td>\n",
       "      <td>no</td>\n",
       "      <td>My boyfriend was scheduled to fly out this mor...</td>\n",
       "      <td>IAH to SFO</td>\n",
       "      <td>1</td>\n",
       "      <td>1</td>\n",
       "      <td>frontier-airlines</td>\n",
       "      <td>still sitting at the airport</td>\n",
       "      <td>Solo Leisure</td>\n",
       "      <td>NaN</td>\n",
       "      <td>1</td>\n",
       "      <td>0</td>\n",
       "      <td>4930c7f8-2cc9-4059-93af-f9830c084cd5</td>\n",
       "    </tr>\n",
       "    <tr>\n",
       "      <th>19149</th>\n",
       "      <td>NaN</td>\n",
       "      <td>Alitalia</td>\n",
       "      <td>Economy Class</td>\n",
       "      <td>NaN</td>\n",
       "      <td>27th March 2013</td>\n",
       "      <td>1</td>\n",
       "      <td>1</td>\n",
       "      <td>0</td>\n",
       "      <td>UnitedStates</td>\n",
       "      <td>NaN</td>\n",
       "      <td>no</td>\n",
       "      <td>I recently travelled JFK to Rome in Premium Ec...</td>\n",
       "      <td>NaN</td>\n",
       "      <td>1</td>\n",
       "      <td>2</td>\n",
       "      <td>alitalia</td>\n",
       "      <td>Alitalia customer review</td>\n",
       "      <td>NaN</td>\n",
       "      <td>NaN</td>\n",
       "      <td>1</td>\n",
       "      <td>0</td>\n",
       "      <td>180943cb-ee91-473a-8381-ebefce27fb8d</td>\n",
       "    </tr>\n",
       "    <tr>\n",
       "      <th>73451</th>\n",
       "      <td>NaN</td>\n",
       "      <td>KLM Royal Dutch Airlines</td>\n",
       "      <td>Economy Class</td>\n",
       "      <td>December 2017</td>\n",
       "      <td>19th December 2017</td>\n",
       "      <td>5</td>\n",
       "      <td>5</td>\n",
       "      <td>5</td>\n",
       "      <td>Germany</td>\n",
       "      <td>10.0</td>\n",
       "      <td>yes</td>\n",
       "      <td>Tokyo to Berlin via Amsterdam, and had an exce...</td>\n",
       "      <td>Tokyo to Berlin via Amsterdam</td>\n",
       "      <td>5</td>\n",
       "      <td>5</td>\n",
       "      <td>klm-royal-dutch-airlines</td>\n",
       "      <td>always felt well taken care of</td>\n",
       "      <td>Solo Leisure</td>\n",
       "      <td>Trip Verified</td>\n",
       "      <td>5</td>\n",
       "      <td>5</td>\n",
       "      <td>fecbd60a-0487-4c73-a429-963734672dcd</td>\n",
       "    </tr>\n",
       "    <tr>\n",
       "      <th>20798</th>\n",
       "      <td>NaN</td>\n",
       "      <td>Allegiant Air</td>\n",
       "      <td>Economy Class</td>\n",
       "      <td>August 2016</td>\n",
       "      <td>9th August 2016</td>\n",
       "      <td>1</td>\n",
       "      <td>1</td>\n",
       "      <td>1</td>\n",
       "      <td>UnitedStates</td>\n",
       "      <td>1.0</td>\n",
       "      <td>no</td>\n",
       "      <td>I understand that mechanical and weather delay...</td>\n",
       "      <td>LAS to BIL</td>\n",
       "      <td>1</td>\n",
       "      <td>5</td>\n",
       "      <td>allegiant-air</td>\n",
       "      <td>total lack of communication</td>\n",
       "      <td>Family Leisure</td>\n",
       "      <td>NaN</td>\n",
       "      <td>2</td>\n",
       "      <td>1</td>\n",
       "      <td>c5efbcf0-8b16-4255-9b46-875e33d76798</td>\n",
       "    </tr>\n",
       "    <tr>\n",
       "      <th>119981</th>\n",
       "      <td>NaN</td>\n",
       "      <td>Virgin Atlantic</td>\n",
       "      <td>Business Class</td>\n",
       "      <td>NaN</td>\n",
       "      <td>23rd December 2013</td>\n",
       "      <td>4</td>\n",
       "      <td>4</td>\n",
       "      <td>0</td>\n",
       "      <td>UnitedKingdom</td>\n",
       "      <td>8.0</td>\n",
       "      <td>yes</td>\n",
       "      <td>VS93 Gatwick to Cancun Upper class November 20...</td>\n",
       "      <td>NaN</td>\n",
       "      <td>4</td>\n",
       "      <td>5</td>\n",
       "      <td>virgin-atlantic-airways</td>\n",
       "      <td>Virgin Atlantic customer review</td>\n",
       "      <td>NaN</td>\n",
       "      <td>NaN</td>\n",
       "      <td>4</td>\n",
       "      <td>0</td>\n",
       "      <td>57d9073a-c50b-4f47-a728-ca3f0b7f4717</td>\n",
       "    </tr>\n",
       "  </tbody>\n",
       "</table>\n",
       "</div>"
      ],
      "text/plain": [
       "       Aircraft               AirlineName       CabinType      DateFlown  \\\n",
       "58488       NaN         Frontier Airlines   Economy Class       May 2016   \n",
       "19149       NaN                  Alitalia   Economy Class            NaN   \n",
       "73451       NaN  KLM Royal Dutch Airlines   Economy Class  December 2017   \n",
       "20798       NaN             Allegiant Air   Economy Class    August 2016   \n",
       "119981      NaN           Virgin Atlantic  Business Class            NaN   \n",
       "\n",
       "                   DatePub  EntertainmentRating  FoodRating  \\\n",
       "58488        31st May 2016                    0           0   \n",
       "19149      27th March 2013                    1           1   \n",
       "73451   19th December 2017                    5           5   \n",
       "20798      9th August 2016                    1           1   \n",
       "119981  23rd December 2013                    4           4   \n",
       "\n",
       "        GroundServiceRating  OriginCountry  OverallScore Recommended  \\\n",
       "58488                     1   UnitedStates           1.0          no   \n",
       "19149                     0   UnitedStates           NaN          no   \n",
       "73451                     5        Germany          10.0         yes   \n",
       "20798                     1   UnitedStates           1.0          no   \n",
       "119981                    0  UnitedKingdom           8.0         yes   \n",
       "\n",
       "                                                   Review  \\\n",
       "58488   My boyfriend was scheduled to fly out this mor...   \n",
       "19149   I recently travelled JFK to Rome in Premium Ec...   \n",
       "73451   Tokyo to Berlin via Amsterdam, and had an exce...   \n",
       "20798   I understand that mechanical and weather delay...   \n",
       "119981  VS93 Gatwick to Cancun Upper class November 20...   \n",
       "\n",
       "                                Route  SeatComfortRating  ServiceRating  \\\n",
       "58488                      IAH to SFO                  1              1   \n",
       "19149                             NaN                  1              2   \n",
       "73451   Tokyo to Berlin via Amsterdam                  5              5   \n",
       "20798                      LAS to BIL                  1              5   \n",
       "119981                            NaN                  4              5   \n",
       "\n",
       "                            Slug                            Title  \\\n",
       "58488          frontier-airlines     still sitting at the airport   \n",
       "19149                   alitalia         Alitalia customer review   \n",
       "73451   klm-royal-dutch-airlines   always felt well taken care of   \n",
       "20798              allegiant-air      total lack of communication   \n",
       "119981   virgin-atlantic-airways  Virgin Atlantic customer review   \n",
       "\n",
       "            TravelType   TripVerified  ValueRating  WifiRating  \\\n",
       "58488     Solo Leisure            NaN            1           0   \n",
       "19149              NaN            NaN            1           0   \n",
       "73451     Solo Leisure  Trip Verified            5           5   \n",
       "20798   Family Leisure            NaN            2           1   \n",
       "119981             NaN            NaN            4           0   \n",
       "\n",
       "                                   unique_id  \n",
       "58488   4930c7f8-2cc9-4059-93af-f9830c084cd5  \n",
       "19149   180943cb-ee91-473a-8381-ebefce27fb8d  \n",
       "73451   fecbd60a-0487-4c73-a429-963734672dcd  \n",
       "20798   c5efbcf0-8b16-4255-9b46-875e33d76798  \n",
       "119981  57d9073a-c50b-4f47-a728-ca3f0b7f4717  "
      ]
     },
     "execution_count": 58,
     "metadata": {},
     "output_type": "execute_result"
    }
   ],
   "source": [
    "data.sample(5)"
   ]
  },
  {
   "cell_type": "code",
   "execution_count": 59,
   "id": "a3afdecf",
   "metadata": {},
   "outputs": [
    {
     "data": {
      "text/plain": [
       "824"
      ]
     },
     "execution_count": 59,
     "metadata": {},
     "output_type": "execute_result"
    }
   ],
   "source": [
    "data.Review.isna().sum()"
   ]
  },
  {
   "cell_type": "code",
   "execution_count": 60,
   "id": "3929dd70",
   "metadata": {},
   "outputs": [
    {
     "data": {
      "text/plain": [
       "(128631, 22)"
      ]
     },
     "execution_count": 60,
     "metadata": {},
     "output_type": "execute_result"
    }
   ],
   "source": [
    "data.dropna(subset=['Review'], inplace=True)\n",
    "data.shape"
   ]
  },
  {
   "cell_type": "code",
   "execution_count": 61,
   "id": "5ad7ea70",
   "metadata": {},
   "outputs": [
    {
     "data": {
      "text/plain": [
       "4330"
      ]
     },
     "execution_count": 61,
     "metadata": {},
     "output_type": "execute_result"
    }
   ],
   "source": [
    "data.OverallScore.isna().sum()"
   ]
  },
  {
   "cell_type": "code",
   "execution_count": 62,
   "id": "b610561b",
   "metadata": {},
   "outputs": [
    {
     "data": {
      "text/plain": [
       "(124301, 22)"
      ]
     },
     "execution_count": 62,
     "metadata": {},
     "output_type": "execute_result"
    }
   ],
   "source": [
    "data.dropna(subset=['OverallScore'], inplace=True)\n",
    "data.shape"
   ]
  },
  {
   "cell_type": "markdown",
   "id": "490d0caa",
   "metadata": {},
   "source": [
    "## Sentiment 2 categories"
   ]
  },
  {
   "cell_type": "code",
   "execution_count": 63,
   "id": "85a1eb6c",
   "metadata": {},
   "outputs": [
    {
     "data": {
      "text/plain": [
       "yes    48562\n",
       "no      2061\n",
       "Name: Recommended, dtype: int64"
      ]
     },
     "execution_count": 63,
     "metadata": {},
     "output_type": "execute_result"
    }
   ],
   "source": [
    "data.loc[data.OverallScore >= 6.0].Recommended.value_counts()"
   ]
  },
  {
   "cell_type": "code",
   "execution_count": 64,
   "id": "288124e5",
   "metadata": {
    "scrolled": true
   },
   "outputs": [
    {
     "data": {
      "text/plain": [
       "no     67155\n",
       "yes     1157\n",
       "Name: Recommended, dtype: int64"
      ]
     },
     "execution_count": 64,
     "metadata": {},
     "output_type": "execute_result"
    }
   ],
   "source": [
    "data.loc[data.OverallScore < 5.0].Recommended.value_counts()"
   ]
  },
  {
   "cell_type": "markdown",
   "id": "f6301778",
   "metadata": {},
   "source": [
    "## Sentiment 3 categories"
   ]
  },
  {
   "cell_type": "code",
   "execution_count": 65,
   "id": "e36768eb",
   "metadata": {},
   "outputs": [
    {
     "data": {
      "text/plain": [
       "yes    4912\n",
       "no     4845\n",
       "Name: Recommended, dtype: int64"
      ]
     },
     "execution_count": 65,
     "metadata": {},
     "output_type": "execute_result"
    }
   ],
   "source": [
    "data.loc[(data.OverallScore >= 5.0) & (data.OverallScore < 7.0)].Recommended.value_counts()"
   ]
  },
  {
   "cell_type": "code",
   "execution_count": 66,
   "id": "8a91d2a0",
   "metadata": {},
   "outputs": [
    {
     "data": {
      "text/plain": [
       "yes    45487\n",
       "no       745\n",
       "Name: Recommended, dtype: int64"
      ]
     },
     "execution_count": 66,
     "metadata": {},
     "output_type": "execute_result"
    }
   ],
   "source": [
    "data.loc[data.OverallScore >= 7.0].Recommended.value_counts()"
   ]
  },
  {
   "cell_type": "code",
   "execution_count": 67,
   "id": "96bdd64b",
   "metadata": {
    "scrolled": true
   },
   "outputs": [
    {
     "data": {
      "text/plain": [
       "no     67155\n",
       "yes     1157\n",
       "Name: Recommended, dtype: int64"
      ]
     },
     "execution_count": 67,
     "metadata": {},
     "output_type": "execute_result"
    }
   ],
   "source": [
    "data.loc[data.OverallScore < 5.0].Recommended.value_counts()"
   ]
  },
  {
   "cell_type": "markdown",
   "id": "755e4615",
   "metadata": {},
   "source": [
    "## Sentiment 4 categories"
   ]
  },
  {
   "cell_type": "code",
   "execution_count": 69,
   "id": "568c5786",
   "metadata": {},
   "outputs": [
    {
     "data": {
      "text/plain": [
       "no     7782\n",
       "yes    2369\n",
       "Name: Recommended, dtype: int64"
      ]
     },
     "execution_count": 69,
     "metadata": {},
     "output_type": "execute_result"
    }
   ],
   "source": [
    "data.loc[(data.OverallScore >= 4.0) & (data.OverallScore <= 5.0)].Recommended.value_counts()"
   ]
  },
  {
   "cell_type": "code",
   "execution_count": 125,
   "id": "2ba00c45",
   "metadata": {},
   "outputs": [
    {
     "data": {
      "text/plain": [
       "yes    3075\n",
       "no     1316\n",
       "Name: Recommended, dtype: int64"
      ]
     },
     "execution_count": 125,
     "metadata": {},
     "output_type": "execute_result"
    }
   ],
   "source": [
    "data.loc[(data.OverallScore == 6.0)].Recommended.value_counts()"
   ]
  },
  {
   "cell_type": "code",
   "execution_count": 126,
   "id": "a0e82c7b",
   "metadata": {},
   "outputs": [
    {
     "data": {
      "text/plain": [
       "yes    45487\n",
       "no       745\n",
       "Name: Recommended, dtype: int64"
      ]
     },
     "execution_count": 126,
     "metadata": {},
     "output_type": "execute_result"
    }
   ],
   "source": [
    "data.loc[data.OverallScore > 6.0].Recommended.value_counts()"
   ]
  },
  {
   "cell_type": "code",
   "execution_count": 127,
   "id": "3a08f119",
   "metadata": {},
   "outputs": [
    {
     "data": {
      "text/plain": [
       "no     62902\n",
       "yes      625\n",
       "Name: Recommended, dtype: int64"
      ]
     },
     "execution_count": 127,
     "metadata": {},
     "output_type": "execute_result"
    }
   ],
   "source": [
    "data.loc[data.OverallScore < 4.0].Recommended.value_counts()"
   ]
  },
  {
   "cell_type": "code",
   "execution_count": 128,
   "id": "92818183",
   "metadata": {},
   "outputs": [
    {
     "data": {
      "text/html": [
       "<div>\n",
       "<style scoped>\n",
       "    .dataframe tbody tr th:only-of-type {\n",
       "        vertical-align: middle;\n",
       "    }\n",
       "\n",
       "    .dataframe tbody tr th {\n",
       "        vertical-align: top;\n",
       "    }\n",
       "\n",
       "    .dataframe thead th {\n",
       "        text-align: right;\n",
       "    }\n",
       "</style>\n",
       "<table border=\"1\" class=\"dataframe\">\n",
       "  <thead>\n",
       "    <tr style=\"text-align: right;\">\n",
       "      <th></th>\n",
       "      <th>Aircraft</th>\n",
       "      <th>AirlineName</th>\n",
       "      <th>CabinType</th>\n",
       "      <th>DateFlown</th>\n",
       "      <th>DatePub</th>\n",
       "      <th>EntertainmentRating</th>\n",
       "      <th>FoodRating</th>\n",
       "      <th>GroundServiceRating</th>\n",
       "      <th>OriginCountry</th>\n",
       "      <th>OverallScore</th>\n",
       "      <th>Recommended</th>\n",
       "      <th>Review</th>\n",
       "      <th>Route</th>\n",
       "      <th>SeatComfortRating</th>\n",
       "      <th>ServiceRating</th>\n",
       "      <th>Slug</th>\n",
       "      <th>Title</th>\n",
       "      <th>TravelType</th>\n",
       "      <th>TripVerified</th>\n",
       "      <th>ValueRating</th>\n",
       "      <th>WifiRating</th>\n",
       "      <th>unique_id</th>\n",
       "    </tr>\n",
       "  </thead>\n",
       "  <tbody>\n",
       "    <tr>\n",
       "      <th>0</th>\n",
       "      <td>NaN</td>\n",
       "      <td>AB Aviation</td>\n",
       "      <td>Economy Class</td>\n",
       "      <td>November 2019</td>\n",
       "      <td>11th November 2019</td>\n",
       "      <td>0</td>\n",
       "      <td>4</td>\n",
       "      <td>4</td>\n",
       "      <td>Netherlands</td>\n",
       "      <td>9.0</td>\n",
       "      <td>yes</td>\n",
       "      <td>Moroni to Moheli. Turned out to be a pretty de...</td>\n",
       "      <td>Moroni to Moheli</td>\n",
       "      <td>4</td>\n",
       "      <td>5</td>\n",
       "      <td>ab-aviation</td>\n",
       "      <td>pretty decent airline</td>\n",
       "      <td>Solo Leisure</td>\n",
       "      <td>Trip Verified</td>\n",
       "      <td>3</td>\n",
       "      <td>0</td>\n",
       "      <td>d3b260fb-268b-4399-8a9b-2804825902c6</td>\n",
       "    </tr>\n",
       "    <tr>\n",
       "      <th>1</th>\n",
       "      <td>E120</td>\n",
       "      <td>AB Aviation</td>\n",
       "      <td>Economy Class</td>\n",
       "      <td>June 2019</td>\n",
       "      <td>25th June 2019</td>\n",
       "      <td>0</td>\n",
       "      <td>1</td>\n",
       "      <td>1</td>\n",
       "      <td>UnitedKingdom</td>\n",
       "      <td>1.0</td>\n",
       "      <td>no</td>\n",
       "      <td>Moroni to Anjouan. It is a very small airline....</td>\n",
       "      <td>Moroni to Anjouan</td>\n",
       "      <td>2</td>\n",
       "      <td>2</td>\n",
       "      <td>ab-aviation</td>\n",
       "      <td>Not a good airline</td>\n",
       "      <td>Solo Leisure</td>\n",
       "      <td>Trip Verified</td>\n",
       "      <td>2</td>\n",
       "      <td>0</td>\n",
       "      <td>307711df-268f-4698-97b8-45729b7d972e</td>\n",
       "    </tr>\n",
       "    <tr>\n",
       "      <th>2</th>\n",
       "      <td>Embraer E120</td>\n",
       "      <td>AB Aviation</td>\n",
       "      <td>Economy Class</td>\n",
       "      <td>June 2019</td>\n",
       "      <td>25th June 2019</td>\n",
       "      <td>0</td>\n",
       "      <td>1</td>\n",
       "      <td>1</td>\n",
       "      <td>UnitedKingdom</td>\n",
       "      <td>1.0</td>\n",
       "      <td>no</td>\n",
       "      <td>Anjouan to Dzaoudzi. A very small airline and ...</td>\n",
       "      <td>Anjouan to Dzaoudzi</td>\n",
       "      <td>2</td>\n",
       "      <td>1</td>\n",
       "      <td>ab-aviation</td>\n",
       "      <td>flight was fortunately short</td>\n",
       "      <td>Solo Leisure</td>\n",
       "      <td>Trip Verified</td>\n",
       "      <td>2</td>\n",
       "      <td>0</td>\n",
       "      <td>82bd2602-171d-4724-bde0-90b71621cdcf</td>\n",
       "    </tr>\n",
       "    <tr>\n",
       "      <th>3</th>\n",
       "      <td>NaN</td>\n",
       "      <td>Aerocaribbean</td>\n",
       "      <td>Economy Class</td>\n",
       "      <td>NaN</td>\n",
       "      <td>31st December 2010</td>\n",
       "      <td>0</td>\n",
       "      <td>0</td>\n",
       "      <td>0</td>\n",
       "      <td>Denmark</td>\n",
       "      <td>8.0</td>\n",
       "      <td>yes</td>\n",
       "      <td>Havana - Cayo Coco return. A one hour flight w...</td>\n",
       "      <td>NaN</td>\n",
       "      <td>0</td>\n",
       "      <td>0</td>\n",
       "      <td>aerocaribbean</td>\n",
       "      <td>Aerocaribbean customer review</td>\n",
       "      <td>NaN</td>\n",
       "      <td>NaN</td>\n",
       "      <td>4</td>\n",
       "      <td>0</td>\n",
       "      <td>a927beb4-6244-4f5c-9dc3-09890aa3e616</td>\n",
       "    </tr>\n",
       "    <tr>\n",
       "      <th>4</th>\n",
       "      <td>NaN</td>\n",
       "      <td>Aerocaribbean</td>\n",
       "      <td>NaN</td>\n",
       "      <td>NaN</td>\n",
       "      <td>25th November 2010</td>\n",
       "      <td>0</td>\n",
       "      <td>0</td>\n",
       "      <td>0</td>\n",
       "      <td>UnitedKingdom</td>\n",
       "      <td>1.0</td>\n",
       "      <td>no</td>\n",
       "      <td>Holguin to Havana last week. Okay apart from i...</td>\n",
       "      <td>NaN</td>\n",
       "      <td>0</td>\n",
       "      <td>0</td>\n",
       "      <td>aerocaribbean</td>\n",
       "      <td>Aerocaribbean customer review</td>\n",
       "      <td>NaN</td>\n",
       "      <td>NaN</td>\n",
       "      <td>0</td>\n",
       "      <td>0</td>\n",
       "      <td>d7bea425-c58a-4a7e-8269-02e0e6516633</td>\n",
       "    </tr>\n",
       "  </tbody>\n",
       "</table>\n",
       "</div>"
      ],
      "text/plain": [
       "        Aircraft    AirlineName      CabinType      DateFlown  \\\n",
       "0            NaN    AB Aviation  Economy Class  November 2019   \n",
       "1           E120    AB Aviation  Economy Class      June 2019   \n",
       "2  Embraer E120     AB Aviation  Economy Class      June 2019   \n",
       "3            NaN  Aerocaribbean  Economy Class            NaN   \n",
       "4            NaN  Aerocaribbean            NaN            NaN   \n",
       "\n",
       "              DatePub  EntertainmentRating  FoodRating  GroundServiceRating  \\\n",
       "0  11th November 2019                    0           4                    4   \n",
       "1      25th June 2019                    0           1                    1   \n",
       "2      25th June 2019                    0           1                    1   \n",
       "3  31st December 2010                    0           0                    0   \n",
       "4  25th November 2010                    0           0                    0   \n",
       "\n",
       "   OriginCountry  OverallScore Recommended  \\\n",
       "0    Netherlands           9.0         yes   \n",
       "1  UnitedKingdom           1.0          no   \n",
       "2  UnitedKingdom           1.0          no   \n",
       "3        Denmark           8.0         yes   \n",
       "4  UnitedKingdom           1.0          no   \n",
       "\n",
       "                                              Review                Route  \\\n",
       "0  Moroni to Moheli. Turned out to be a pretty de...     Moroni to Moheli   \n",
       "1  Moroni to Anjouan. It is a very small airline....    Moroni to Anjouan   \n",
       "2  Anjouan to Dzaoudzi. A very small airline and ...  Anjouan to Dzaoudzi   \n",
       "3  Havana - Cayo Coco return. A one hour flight w...                  NaN   \n",
       "4  Holguin to Havana last week. Okay apart from i...                  NaN   \n",
       "\n",
       "   SeatComfortRating  ServiceRating           Slug  \\\n",
       "0                  4              5    ab-aviation   \n",
       "1                  2              2    ab-aviation   \n",
       "2                  2              1    ab-aviation   \n",
       "3                  0              0  aerocaribbean   \n",
       "4                  0              0  aerocaribbean   \n",
       "\n",
       "                           Title    TravelType   TripVerified  ValueRating  \\\n",
       "0          pretty decent airline  Solo Leisure  Trip Verified            3   \n",
       "1             Not a good airline  Solo Leisure  Trip Verified            2   \n",
       "2   flight was fortunately short  Solo Leisure  Trip Verified            2   \n",
       "3  Aerocaribbean customer review           NaN            NaN            4   \n",
       "4  Aerocaribbean customer review           NaN            NaN            0   \n",
       "\n",
       "   WifiRating                             unique_id  \n",
       "0           0  d3b260fb-268b-4399-8a9b-2804825902c6  \n",
       "1           0  307711df-268f-4698-97b8-45729b7d972e  \n",
       "2           0  82bd2602-171d-4724-bde0-90b71621cdcf  \n",
       "3           0  a927beb4-6244-4f5c-9dc3-09890aa3e616  \n",
       "4           0  d7bea425-c58a-4a7e-8269-02e0e6516633  "
      ]
     },
     "execution_count": 128,
     "metadata": {},
     "output_type": "execute_result"
    }
   ],
   "source": [
    "data.head(5)"
   ]
  },
  {
   "cell_type": "code",
   "execution_count": 129,
   "id": "e238bd77",
   "metadata": {},
   "outputs": [],
   "source": [
    "numVar = data.select_dtypes('int64').columns.to_list()"
   ]
  },
  {
   "cell_type": "code",
   "execution_count": 130,
   "id": "fe71ded1",
   "metadata": {},
   "outputs": [],
   "source": [
    "novaData = data[['Review', 'OverallScore']]"
   ]
  },
  {
   "cell_type": "code",
   "execution_count": 131,
   "id": "054a6232",
   "metadata": {},
   "outputs": [],
   "source": [
    "def overallScoreToSentiment2Categories(br):\n",
    "    if br < 6.0:\n",
    "        return \"Negative\"\n",
    "    elif br >= 6.0:\n",
    "        return \"Positive\""
   ]
  },
  {
   "cell_type": "code",
   "execution_count": 132,
   "id": "ff0c6809",
   "metadata": {},
   "outputs": [],
   "source": [
    "novaData['Sentiment2Cat'] = data.OverallScore.apply(overallScoreToSentiment2Categories)"
   ]
  },
  {
   "cell_type": "code",
   "execution_count": 133,
   "id": "094ab1af",
   "metadata": {},
   "outputs": [],
   "source": [
    "def overallScoreToSentiment3Categories(br):\n",
    "    if br < 5.0:\n",
    "        return \"Negative\"\n",
    "    elif br >= 5.0 and br < 7.0:\n",
    "        return \"Neutral\"\n",
    "    elif br >= 7.0:\n",
    "        return \"Positive\""
   ]
  },
  {
   "cell_type": "code",
   "execution_count": 134,
   "id": "7ee353d7",
   "metadata": {},
   "outputs": [],
   "source": [
    "novaData['Sentiment3Cat'] = data.OverallScore.apply(overallScoreToSentiment3Categories)"
   ]
  },
  {
   "cell_type": "code",
   "execution_count": 135,
   "id": "3153d519",
   "metadata": {},
   "outputs": [],
   "source": [
    "def overallScoreToSentiment4Categories(br):\n",
    "    if br < 4.0:\n",
    "        return \"Extremely Negative\"\n",
    "    elif br >= 4.0 and br <= 5.0:\n",
    "        return \"Mildly Negative\"\n",
    "    elif br == 6.0:\n",
    "        return \"Mildly Positive\"\n",
    "    elif br > 6.0:\n",
    "        return \"Extremely Positive\""
   ]
  },
  {
   "cell_type": "code",
   "execution_count": 136,
   "id": "c981139c",
   "metadata": {},
   "outputs": [],
   "source": [
    "novaData['Sentiment4Cat'] = data.OverallScore.apply(overallScoreToSentiment4Categories)"
   ]
  },
  {
   "cell_type": "code",
   "execution_count": 137,
   "id": "8f716e5b",
   "metadata": {},
   "outputs": [
    {
     "data": {
      "text/plain": [
       "Negative    73678\n",
       "Positive    50623\n",
       "Name: Sentiment2Cat, dtype: int64"
      ]
     },
     "execution_count": 137,
     "metadata": {},
     "output_type": "execute_result"
    }
   ],
   "source": [
    "novaData.Sentiment2Cat.value_counts()"
   ]
  },
  {
   "cell_type": "code",
   "execution_count": 138,
   "id": "842774f2",
   "metadata": {},
   "outputs": [
    {
     "data": {
      "text/plain": [
       "Negative    68312\n",
       "Positive    46232\n",
       "Neutral      9757\n",
       "Name: Sentiment3Cat, dtype: int64"
      ]
     },
     "execution_count": 138,
     "metadata": {},
     "output_type": "execute_result"
    }
   ],
   "source": [
    "novaData.Sentiment3Cat.value_counts()"
   ]
  },
  {
   "cell_type": "code",
   "execution_count": 139,
   "id": "8a160340",
   "metadata": {},
   "outputs": [
    {
     "data": {
      "text/plain": [
       "Extremely Negative    63527\n",
       "Extremely Positive    46232\n",
       "Mildly Negative       10151\n",
       "Mildly Positive        4391\n",
       "Name: Sentiment4Cat, dtype: int64"
      ]
     },
     "execution_count": 139,
     "metadata": {},
     "output_type": "execute_result"
    }
   ],
   "source": [
    "novaData.Sentiment4Cat.value_counts()"
   ]
  },
  {
   "cell_type": "code",
   "execution_count": 140,
   "id": "97fe0b69",
   "metadata": {
    "scrolled": true
   },
   "outputs": [
    {
     "data": {
      "text/html": [
       "<div>\n",
       "<style scoped>\n",
       "    .dataframe tbody tr th:only-of-type {\n",
       "        vertical-align: middle;\n",
       "    }\n",
       "\n",
       "    .dataframe tbody tr th {\n",
       "        vertical-align: top;\n",
       "    }\n",
       "\n",
       "    .dataframe thead th {\n",
       "        text-align: right;\n",
       "    }\n",
       "</style>\n",
       "<table border=\"1\" class=\"dataframe\">\n",
       "  <thead>\n",
       "    <tr style=\"text-align: right;\">\n",
       "      <th></th>\n",
       "      <th>Review</th>\n",
       "      <th>OverallScore</th>\n",
       "      <th>Sentiment2Cat</th>\n",
       "      <th>Sentiment3Cat</th>\n",
       "      <th>Sentiment4Cat</th>\n",
       "    </tr>\n",
       "  </thead>\n",
       "  <tbody>\n",
       "    <tr>\n",
       "      <th>15423</th>\n",
       "      <td>Without any doubt the worst business class in ...</td>\n",
       "      <td>1.0</td>\n",
       "      <td>Negative</td>\n",
       "      <td>Negative</td>\n",
       "      <td>Extremely Negative</td>\n",
       "    </tr>\n",
       "    <tr>\n",
       "      <th>37701</th>\n",
       "      <td>Toronto to Dubai via Cairo and they say you ha...</td>\n",
       "      <td>1.0</td>\n",
       "      <td>Negative</td>\n",
       "      <td>Negative</td>\n",
       "      <td>Extremely Negative</td>\n",
       "    </tr>\n",
       "    <tr>\n",
       "      <th>34437</th>\n",
       "      <td>GCM-MIA connecting to a intercontinental fligh...</td>\n",
       "      <td>4.0</td>\n",
       "      <td>Negative</td>\n",
       "      <td>Negative</td>\n",
       "      <td>Mildly Negative</td>\n",
       "    </tr>\n",
       "    <tr>\n",
       "      <th>63277</th>\n",
       "      <td>✅ , |  Djibouti to Zanzibar via Niarobi. Some ...</td>\n",
       "      <td>2.0</td>\n",
       "      <td>Negative</td>\n",
       "      <td>Negative</td>\n",
       "      <td>Extremely Negative</td>\n",
       "    </tr>\n",
       "    <tr>\n",
       "      <th>64860</th>\n",
       "      <td>San José to Orlando. Excellent seats and wonde...</td>\n",
       "      <td>10.0</td>\n",
       "      <td>Positive</td>\n",
       "      <td>Positive</td>\n",
       "      <td>Extremely Positive</td>\n",
       "    </tr>\n",
       "    <tr>\n",
       "      <th>48852</th>\n",
       "      <td>My Husband and I travelled on Emirates on DEL-...</td>\n",
       "      <td>2.0</td>\n",
       "      <td>Negative</td>\n",
       "      <td>Negative</td>\n",
       "      <td>Extremely Negative</td>\n",
       "    </tr>\n",
       "    <tr>\n",
       "      <th>100710</th>\n",
       "      <td>Orlando to Asheville. Absolute worst experienc...</td>\n",
       "      <td>1.0</td>\n",
       "      <td>Negative</td>\n",
       "      <td>Negative</td>\n",
       "      <td>Extremely Negative</td>\n",
       "    </tr>\n",
       "    <tr>\n",
       "      <th>1529</th>\n",
       "      <td>My infant daughter and I flew from Cape Town t...</td>\n",
       "      <td>6.0</td>\n",
       "      <td>Positive</td>\n",
       "      <td>Neutral</td>\n",
       "      <td>Mildly Positive</td>\n",
       "    </tr>\n",
       "    <tr>\n",
       "      <th>63608</th>\n",
       "      <td>Vancouver to Ottawa via Toronto. Late departur...</td>\n",
       "      <td>7.0</td>\n",
       "      <td>Positive</td>\n",
       "      <td>Positive</td>\n",
       "      <td>Extremely Positive</td>\n",
       "    </tr>\n",
       "    <tr>\n",
       "      <th>54086</th>\n",
       "      <td>I got to the airport 3 hours early just in cas...</td>\n",
       "      <td>1.0</td>\n",
       "      <td>Negative</td>\n",
       "      <td>Negative</td>\n",
       "      <td>Extremely Negative</td>\n",
       "    </tr>\n",
       "  </tbody>\n",
       "</table>\n",
       "</div>"
      ],
      "text/plain": [
       "                                                   Review  OverallScore  \\\n",
       "15423   Without any doubt the worst business class in ...           1.0   \n",
       "37701   Toronto to Dubai via Cairo and they say you ha...           1.0   \n",
       "34437   GCM-MIA connecting to a intercontinental fligh...           4.0   \n",
       "63277   ✅ , |  Djibouti to Zanzibar via Niarobi. Some ...           2.0   \n",
       "64860   San José to Orlando. Excellent seats and wonde...          10.0   \n",
       "48852   My Husband and I travelled on Emirates on DEL-...           2.0   \n",
       "100710  Orlando to Asheville. Absolute worst experienc...           1.0   \n",
       "1529    My infant daughter and I flew from Cape Town t...           6.0   \n",
       "63608   Vancouver to Ottawa via Toronto. Late departur...           7.0   \n",
       "54086   I got to the airport 3 hours early just in cas...           1.0   \n",
       "\n",
       "       Sentiment2Cat Sentiment3Cat       Sentiment4Cat  \n",
       "15423       Negative      Negative  Extremely Negative  \n",
       "37701       Negative      Negative  Extremely Negative  \n",
       "34437       Negative      Negative     Mildly Negative  \n",
       "63277       Negative      Negative  Extremely Negative  \n",
       "64860       Positive      Positive  Extremely Positive  \n",
       "48852       Negative      Negative  Extremely Negative  \n",
       "100710      Negative      Negative  Extremely Negative  \n",
       "1529        Positive       Neutral     Mildly Positive  \n",
       "63608       Positive      Positive  Extremely Positive  \n",
       "54086       Negative      Negative  Extremely Negative  "
      ]
     },
     "execution_count": 140,
     "metadata": {},
     "output_type": "execute_result"
    }
   ],
   "source": [
    "novaData.sample(10)"
   ]
  },
  {
   "cell_type": "code",
   "execution_count": 141,
   "id": "3d5ab096",
   "metadata": {},
   "outputs": [],
   "source": [
    "mainData = novaData[[\"Review\", \"Sentiment2Cat\", \"Sentiment3Cat\", \"Sentiment4Cat\"]]"
   ]
  },
  {
   "cell_type": "code",
   "execution_count": 142,
   "id": "3b3d62b0",
   "metadata": {},
   "outputs": [],
   "source": [
    "mainData.rename(columns={'Review': 'OriginalReview'}, inplace=True)"
   ]
  },
  {
   "cell_type": "code",
   "execution_count": 143,
   "id": "c56b134a",
   "metadata": {
    "scrolled": true
   },
   "outputs": [
    {
     "data": {
      "text/html": [
       "<div>\n",
       "<style scoped>\n",
       "    .dataframe tbody tr th:only-of-type {\n",
       "        vertical-align: middle;\n",
       "    }\n",
       "\n",
       "    .dataframe tbody tr th {\n",
       "        vertical-align: top;\n",
       "    }\n",
       "\n",
       "    .dataframe thead th {\n",
       "        text-align: right;\n",
       "    }\n",
       "</style>\n",
       "<table border=\"1\" class=\"dataframe\">\n",
       "  <thead>\n",
       "    <tr style=\"text-align: right;\">\n",
       "      <th></th>\n",
       "      <th>OriginalReview</th>\n",
       "      <th>Sentiment2Cat</th>\n",
       "      <th>Sentiment3Cat</th>\n",
       "      <th>Sentiment4Cat</th>\n",
       "    </tr>\n",
       "  </thead>\n",
       "  <tbody>\n",
       "    <tr>\n",
       "      <th>76616</th>\n",
       "      <td>✅ , |  Birmingham to Larnaca via Frankfurt, re...</td>\n",
       "      <td>Negative</td>\n",
       "      <td>Negative</td>\n",
       "      <td>Extremely Negative</td>\n",
       "    </tr>\n",
       "    <tr>\n",
       "      <th>22141</th>\n",
       "      <td>Worst flight experience ever with AA. I arrive...</td>\n",
       "      <td>Negative</td>\n",
       "      <td>Negative</td>\n",
       "      <td>Extremely Negative</td>\n",
       "    </tr>\n",
       "    <tr>\n",
       "      <th>103860</th>\n",
       "      <td>Leipzig to Heraklion. It was on time and the s...</td>\n",
       "      <td>Positive</td>\n",
       "      <td>Positive</td>\n",
       "      <td>Extremely Positive</td>\n",
       "    </tr>\n",
       "    <tr>\n",
       "      <th>98795</th>\n",
       "      <td>The worst service! I had a carry on bag and th...</td>\n",
       "      <td>Negative</td>\n",
       "      <td>Negative</td>\n",
       "      <td>Extremely Negative</td>\n",
       "    </tr>\n",
       "    <tr>\n",
       "      <th>112877</th>\n",
       "      <td>LHR-TUNIS-LHR out 1 Oct return 11 Oct 2013. Fl...</td>\n",
       "      <td>Positive</td>\n",
       "      <td>Positive</td>\n",
       "      <td>Extremely Positive</td>\n",
       "    </tr>\n",
       "  </tbody>\n",
       "</table>\n",
       "</div>"
      ],
      "text/plain": [
       "                                           OriginalReview Sentiment2Cat  \\\n",
       "76616   ✅ , |  Birmingham to Larnaca via Frankfurt, re...      Negative   \n",
       "22141   Worst flight experience ever with AA. I arrive...      Negative   \n",
       "103860  Leipzig to Heraklion. It was on time and the s...      Positive   \n",
       "98795   The worst service! I had a carry on bag and th...      Negative   \n",
       "112877  LHR-TUNIS-LHR out 1 Oct return 11 Oct 2013. Fl...      Positive   \n",
       "\n",
       "       Sentiment3Cat       Sentiment4Cat  \n",
       "76616       Negative  Extremely Negative  \n",
       "22141       Negative  Extremely Negative  \n",
       "103860      Positive  Extremely Positive  \n",
       "98795       Negative  Extremely Negative  \n",
       "112877      Positive  Extremely Positive  "
      ]
     },
     "execution_count": 143,
     "metadata": {},
     "output_type": "execute_result"
    }
   ],
   "source": [
    "mainData.sample(5)"
   ]
  },
  {
   "cell_type": "code",
   "execution_count": 144,
   "id": "07309462",
   "metadata": {},
   "outputs": [
    {
     "name": "stderr",
     "output_type": "stream",
     "text": [
      "[nltk_data] Downloading package stopwords to\n",
      "[nltk_data]     C:\\Users\\Korisnik\\AppData\\Roaming\\nltk_data...\n",
      "[nltk_data]   Package stopwords is already up-to-date!\n",
      "[nltk_data] Downloading package words to\n",
      "[nltk_data]     C:\\Users\\Korisnik\\AppData\\Roaming\\nltk_data...\n",
      "[nltk_data]   Package words is already up-to-date!\n"
     ]
    }
   ],
   "source": [
    "import nltk\n",
    "nltk.download('stopwords')\n",
    "nltk.download('words')\n",
    "from nltk.tokenize import word_tokenize\n",
    "from nltk.corpus import stopwords\n",
    "from nltk.corpus import words\n",
    "import re"
   ]
  },
  {
   "cell_type": "code",
   "execution_count": 145,
   "id": "53ba0b81",
   "metadata": {},
   "outputs": [],
   "source": [
    "engStopWords = set(stopwords.words('english'))\n",
    "engWords = set(words.words())"
   ]
  },
  {
   "cell_type": "code",
   "execution_count": 147,
   "id": "dc9767fd",
   "metadata": {},
   "outputs": [],
   "source": [
    "engStopWords.remove('no')\n",
    "engStopWords.remove('not')"
   ]
  },
  {
   "cell_type": "code",
   "execution_count": 148,
   "id": "706515f7",
   "metadata": {},
   "outputs": [],
   "source": [
    "def reviewFiltering(review):\n",
    "    review = re.sub('[^a-zA-Z]', ' ', review)\n",
    "    review = review.lower()\n",
    "    wordList = review.split()\n",
    "    wordList = [word for word in wordList if word not in engStopWords]\n",
    "    review = ' '.join(wordList)\n",
    "    return review"
   ]
  },
  {
   "cell_type": "code",
   "execution_count": 149,
   "id": "d0f0771c",
   "metadata": {
    "scrolled": true
   },
   "outputs": [],
   "source": [
    "mainData['FilteredReview'] = mainData['OriginalReview'].apply(reviewFiltering)"
   ]
  },
  {
   "cell_type": "code",
   "execution_count": 150,
   "id": "16b5e90a",
   "metadata": {},
   "outputs": [
    {
     "data": {
      "text/plain": [
       "105558    mediocre business class service brazil argenti...\n",
       "119000    zurich barcelona flight vueling canceled due s...\n",
       "74722     flew iad jro via ams round trip four legs hour...\n",
       "33482     no problems short flight left arrived time dri...\n",
       "26927     not get refreshments flight amenities getting ...\n",
       "95122     finally get fly next gen business class produc...\n",
       "94982     los angeles bangkok via tokyo singapore first ...\n",
       "32575     flew british airways lisbon san jose via londo...\n",
       "61397     worst airline ever checked luggage pune person...\n",
       "104994    wg may wg may elite must mean something differ...\n",
       "Name: FilteredReview, dtype: object"
      ]
     },
     "execution_count": 150,
     "metadata": {},
     "output_type": "execute_result"
    }
   ],
   "source": [
    "mainData.FilteredReview.sample(10)"
   ]
  },
  {
   "cell_type": "code",
   "execution_count": 151,
   "id": "ab4938c4",
   "metadata": {},
   "outputs": [],
   "source": [
    "from nltk.stem import PorterStemmer"
   ]
  },
  {
   "cell_type": "code",
   "execution_count": 152,
   "id": "278d1fbd",
   "metadata": {},
   "outputs": [],
   "source": [
    "stemmer = PorterStemmer()"
   ]
  },
  {
   "cell_type": "code",
   "execution_count": 153,
   "id": "fc070b6c",
   "metadata": {},
   "outputs": [],
   "source": [
    "def stemmReview(review: str):\n",
    "    wordList = review.split()\n",
    "    wordList = [stemmer.stem(word) for word in wordList]\n",
    "    review = ' '.join(wordList)\n",
    "    return review"
   ]
  },
  {
   "cell_type": "code",
   "execution_count": 154,
   "id": "b947b533",
   "metadata": {},
   "outputs": [],
   "source": [
    "mainData['StemmedReview'] = mainData.FilteredReview.apply(stemmReview)"
   ]
  },
  {
   "cell_type": "code",
   "execution_count": 155,
   "id": "ba5375f7",
   "metadata": {},
   "outputs": [
    {
     "data": {
      "text/plain": [
       "17519     worst custom servic experi ever bewar alitalia...\n",
       "4200      nice flight gener bad point report howev flew ...\n",
       "123234    flew turkish airlin milano malpensa san franci...\n",
       "32630     kiev belfast via london heathrow last two flig...\n",
       "11219     gatwick toronto arriv counter checkin behavior...\n",
       "Name: StemmedReview, dtype: object"
      ]
     },
     "execution_count": 155,
     "metadata": {},
     "output_type": "execute_result"
    }
   ],
   "source": [
    "mainData.StemmedReview.sample(5)"
   ]
  },
  {
   "cell_type": "code",
   "execution_count": 156,
   "id": "d18825fd",
   "metadata": {},
   "outputs": [],
   "source": [
    "lemmatizer = nltk.WordNetLemmatizer()"
   ]
  },
  {
   "cell_type": "code",
   "execution_count": 157,
   "id": "59a17c78",
   "metadata": {},
   "outputs": [],
   "source": [
    "def lemmatizeReview(review: str):\n",
    "    \n",
    "    wordList = word_tokenize(review)\n",
    "    \n",
    "    posWordList = nltk.pos_tag(wordList)\n",
    "    \n",
    "    lemmaReview = []\n",
    "    \n",
    "    for word in posWordList:\n",
    "        if word[1].startswith('N'):\n",
    "            lemmaWord = lemmatizer.lemmatize(word[0])\n",
    "            lemmaReview.append(lemmaWord)\n",
    "        elif word[1].startswith('V') or word[1] == 'MD':\n",
    "            lemmaWord = lemmatizer.lemmatize(word[0], pos='v')\n",
    "            lemmaReview.append(lemmaWord)\n",
    "        elif word[1].startswith('R'):\n",
    "            lemmaWord = lemmatizer.lemmatize(word[0], pos='a')\n",
    "            lemmaReview.append(lemmaWord)\n",
    "        else:\n",
    "            lemmaWord = word[0]\n",
    "            lemmaReview.append(lemmaWord)\n",
    "            \n",
    "    lemmaReview = ' '.join(lemmaReview)\n",
    "    \n",
    "    return lemmaReview"
   ]
  },
  {
   "cell_type": "code",
   "execution_count": 158,
   "id": "702d8bdf",
   "metadata": {},
   "outputs": [],
   "source": [
    "mainData['LemmatizedReview'] = mainData.FilteredReview.apply(lemmatizeReview)"
   ]
  },
  {
   "cell_type": "code",
   "execution_count": 159,
   "id": "0ce3510f",
   "metadata": {},
   "outputs": [
    {
     "data": {
      "text/plain": [
       "52387    get flight seattle reno february tell tommy co...\n",
       "39306    china southern airline guangzhou bali return f...\n",
       "88490    doha stockholm premium airline service go wron...\n",
       "29198    brussels geneva booked flight good price one m...\n",
       "82400    worst airline ticket issue explain thing time ...\n",
       "Name: LemmatizedReview, dtype: object"
      ]
     },
     "execution_count": 159,
     "metadata": {},
     "output_type": "execute_result"
    }
   ],
   "source": [
    "mainData.LemmatizedReview.sample(5)"
   ]
  },
  {
   "cell_type": "code",
   "execution_count": 160,
   "id": "054bfa8b",
   "metadata": {},
   "outputs": [
    {
     "data": {
      "text/html": [
       "<div>\n",
       "<style scoped>\n",
       "    .dataframe tbody tr th:only-of-type {\n",
       "        vertical-align: middle;\n",
       "    }\n",
       "\n",
       "    .dataframe tbody tr th {\n",
       "        vertical-align: top;\n",
       "    }\n",
       "\n",
       "    .dataframe thead th {\n",
       "        text-align: right;\n",
       "    }\n",
       "</style>\n",
       "<table border=\"1\" class=\"dataframe\">\n",
       "  <thead>\n",
       "    <tr style=\"text-align: right;\">\n",
       "      <th></th>\n",
       "      <th>OriginalReview</th>\n",
       "      <th>Sentiment2Cat</th>\n",
       "      <th>Sentiment3Cat</th>\n",
       "      <th>Sentiment4Cat</th>\n",
       "      <th>FilteredReview</th>\n",
       "      <th>StemmedReview</th>\n",
       "      <th>LemmatizedReview</th>\n",
       "    </tr>\n",
       "  </thead>\n",
       "  <tbody>\n",
       "    <tr>\n",
       "      <th>24723</th>\n",
       "      <td>Indianapolis to Tucson via Dallas Ft Worth. Th...</td>\n",
       "      <td>Negative</td>\n",
       "      <td>Negative</td>\n",
       "      <td>Extremely Negative</td>\n",
       "      <td>indianapolis tucson via dallas ft worth flight...</td>\n",
       "      <td>indianapoli tucson via dalla ft worth flight c...</td>\n",
       "      <td>indianapolis tucson via dallas ft worth flight...</td>\n",
       "    </tr>\n",
       "    <tr>\n",
       "      <th>121905</th>\n",
       "      <td>Very disappointed in the service. My flight ch...</td>\n",
       "      <td>Negative</td>\n",
       "      <td>Negative</td>\n",
       "      <td>Extremely Negative</td>\n",
       "      <td>disappointed service flight changed times due ...</td>\n",
       "      <td>disappoint servic flight chang time due delay ...</td>\n",
       "      <td>disappointed service flight change time due de...</td>\n",
       "    </tr>\n",
       "    <tr>\n",
       "      <th>123268</th>\n",
       "      <td>Chicago to San Francisco. I consistently have ...</td>\n",
       "      <td>Negative</td>\n",
       "      <td>Negative</td>\n",
       "      <td>Extremely Negative</td>\n",
       "      <td>chicago san francisco consistently bad custome...</td>\n",
       "      <td>chicago san francisco consist bad custom exper...</td>\n",
       "      <td>chicago san francisco consistently bad custome...</td>\n",
       "    </tr>\n",
       "    <tr>\n",
       "      <th>23163</th>\n",
       "      <td>Phoenix to Guadalajara. For over 10 years I us...</td>\n",
       "      <td>Negative</td>\n",
       "      <td>Negative</td>\n",
       "      <td>Extremely Negative</td>\n",
       "      <td>phoenix guadalajara years used travel alaska a...</td>\n",
       "      <td>phoenix guadalajara year use travel alaska air...</td>\n",
       "      <td>phoenix guadalajara year use travel alaska air...</td>\n",
       "    </tr>\n",
       "    <tr>\n",
       "      <th>41555</th>\n",
       "      <td>July 8th 2013. Flew from Bristol - Nice and ba...</td>\n",
       "      <td>Positive</td>\n",
       "      <td>Positive</td>\n",
       "      <td>Extremely Positive</td>\n",
       "      <td>july th flew bristol nice back easyjet holiday...</td>\n",
       "      <td>juli th flew bristol nice back easyjet holiday...</td>\n",
       "      <td>july th fly bristol nice back easyjet holiday ...</td>\n",
       "    </tr>\n",
       "  </tbody>\n",
       "</table>\n",
       "</div>"
      ],
      "text/plain": [
       "                                           OriginalReview Sentiment2Cat  \\\n",
       "24723   Indianapolis to Tucson via Dallas Ft Worth. Th...      Negative   \n",
       "121905  Very disappointed in the service. My flight ch...      Negative   \n",
       "123268  Chicago to San Francisco. I consistently have ...      Negative   \n",
       "23163   Phoenix to Guadalajara. For over 10 years I us...      Negative   \n",
       "41555   July 8th 2013. Flew from Bristol - Nice and ba...      Positive   \n",
       "\n",
       "       Sentiment3Cat       Sentiment4Cat  \\\n",
       "24723       Negative  Extremely Negative   \n",
       "121905      Negative  Extremely Negative   \n",
       "123268      Negative  Extremely Negative   \n",
       "23163       Negative  Extremely Negative   \n",
       "41555       Positive  Extremely Positive   \n",
       "\n",
       "                                           FilteredReview  \\\n",
       "24723   indianapolis tucson via dallas ft worth flight...   \n",
       "121905  disappointed service flight changed times due ...   \n",
       "123268  chicago san francisco consistently bad custome...   \n",
       "23163   phoenix guadalajara years used travel alaska a...   \n",
       "41555   july th flew bristol nice back easyjet holiday...   \n",
       "\n",
       "                                            StemmedReview  \\\n",
       "24723   indianapoli tucson via dalla ft worth flight c...   \n",
       "121905  disappoint servic flight chang time due delay ...   \n",
       "123268  chicago san francisco consist bad custom exper...   \n",
       "23163   phoenix guadalajara year use travel alaska air...   \n",
       "41555   juli th flew bristol nice back easyjet holiday...   \n",
       "\n",
       "                                         LemmatizedReview  \n",
       "24723   indianapolis tucson via dallas ft worth flight...  \n",
       "121905  disappointed service flight change time due de...  \n",
       "123268  chicago san francisco consistently bad custome...  \n",
       "23163   phoenix guadalajara year use travel alaska air...  \n",
       "41555   july th fly bristol nice back easyjet holiday ...  "
      ]
     },
     "execution_count": 160,
     "metadata": {},
     "output_type": "execute_result"
    }
   ],
   "source": [
    "mainData.sample(5)"
   ]
  },
  {
   "cell_type": "code",
   "execution_count": 161,
   "id": "d278be74",
   "metadata": {},
   "outputs": [],
   "source": [
    "newColumnOrder = ['OriginalReview', 'FilteredReview', 'StemmedReview', 'LemmatizedReview', 'Sentiment2Cat', 'Sentiment3Cat', 'Sentiment4Cat']"
   ]
  },
  {
   "cell_type": "code",
   "execution_count": 162,
   "id": "9b903484",
   "metadata": {},
   "outputs": [],
   "source": [
    "mainData = mainData[newColumnOrder]"
   ]
  },
  {
   "cell_type": "code",
   "execution_count": 163,
   "id": "9018b7cb",
   "metadata": {},
   "outputs": [
    {
     "data": {
      "text/html": [
       "<div>\n",
       "<style scoped>\n",
       "    .dataframe tbody tr th:only-of-type {\n",
       "        vertical-align: middle;\n",
       "    }\n",
       "\n",
       "    .dataframe tbody tr th {\n",
       "        vertical-align: top;\n",
       "    }\n",
       "\n",
       "    .dataframe thead th {\n",
       "        text-align: right;\n",
       "    }\n",
       "</style>\n",
       "<table border=\"1\" class=\"dataframe\">\n",
       "  <thead>\n",
       "    <tr style=\"text-align: right;\">\n",
       "      <th></th>\n",
       "      <th>OriginalReview</th>\n",
       "      <th>FilteredReview</th>\n",
       "      <th>StemmedReview</th>\n",
       "      <th>LemmatizedReview</th>\n",
       "      <th>Sentiment2Cat</th>\n",
       "      <th>Sentiment3Cat</th>\n",
       "      <th>Sentiment4Cat</th>\n",
       "    </tr>\n",
       "  </thead>\n",
       "  <tbody>\n",
       "    <tr>\n",
       "      <th>63608</th>\n",
       "      <td>Vancouver to Ottawa via Toronto. Late departur...</td>\n",
       "      <td>vancouver ottawa via toronto late departure ma...</td>\n",
       "      <td>vancouv ottawa via toronto late departur made ...</td>\n",
       "      <td>vancouver ottawa via toronto late departure ma...</td>\n",
       "      <td>Positive</td>\n",
       "      <td>Positive</td>\n",
       "      <td>Extremely Positive</td>\n",
       "    </tr>\n",
       "    <tr>\n",
       "      <th>107537</th>\n",
       "      <td>Full service, but they only serve a small bun ...</td>\n",
       "      <td>full service serve small bun water bangkok air...</td>\n",
       "      <td>full servic serv small bun water bangkok airwa...</td>\n",
       "      <td>full service serve small bun water bangkok air...</td>\n",
       "      <td>Negative</td>\n",
       "      <td>Negative</td>\n",
       "      <td>Extremely Negative</td>\n",
       "    </tr>\n",
       "    <tr>\n",
       "      <th>49937</th>\n",
       "      <td>Recently flew DXB-BEY-DXB. All flights leave f...</td>\n",
       "      <td>recently flew dxb bey dxb flights leave termin...</td>\n",
       "      <td>recent flew dxb bey dxb flight leav termin two...</td>\n",
       "      <td>recently fly dxb bey dxb flight leave terminal...</td>\n",
       "      <td>Positive</td>\n",
       "      <td>Positive</td>\n",
       "      <td>Extremely Positive</td>\n",
       "    </tr>\n",
       "    <tr>\n",
       "      <th>21031</th>\n",
       "      <td>Problems with tickets! Employee being late cau...</td>\n",
       "      <td>problems tickets employee late caused flight d...</td>\n",
       "      <td>problem ticket employe late caus flight delay ...</td>\n",
       "      <td>problem ticket employee late cause flight dela...</td>\n",
       "      <td>Negative</td>\n",
       "      <td>Negative</td>\n",
       "      <td>Extremely Negative</td>\n",
       "    </tr>\n",
       "    <tr>\n",
       "      <th>10717</th>\n",
       "      <td>I took a business class return flight from Ams...</td>\n",
       "      <td>took business class return flight amsterdam vi...</td>\n",
       "      <td>took busi class return flight amsterdam via ma...</td>\n",
       "      <td>take business class return flight amsterdam vi...</td>\n",
       "      <td>Positive</td>\n",
       "      <td>Neutral</td>\n",
       "      <td>Mildly Positive</td>\n",
       "    </tr>\n",
       "  </tbody>\n",
       "</table>\n",
       "</div>"
      ],
      "text/plain": [
       "                                           OriginalReview  \\\n",
       "63608   Vancouver to Ottawa via Toronto. Late departur...   \n",
       "107537  Full service, but they only serve a small bun ...   \n",
       "49937   Recently flew DXB-BEY-DXB. All flights leave f...   \n",
       "21031   Problems with tickets! Employee being late cau...   \n",
       "10717   I took a business class return flight from Ams...   \n",
       "\n",
       "                                           FilteredReview  \\\n",
       "63608   vancouver ottawa via toronto late departure ma...   \n",
       "107537  full service serve small bun water bangkok air...   \n",
       "49937   recently flew dxb bey dxb flights leave termin...   \n",
       "21031   problems tickets employee late caused flight d...   \n",
       "10717   took business class return flight amsterdam vi...   \n",
       "\n",
       "                                            StemmedReview  \\\n",
       "63608   vancouv ottawa via toronto late departur made ...   \n",
       "107537  full servic serv small bun water bangkok airwa...   \n",
       "49937   recent flew dxb bey dxb flight leav termin two...   \n",
       "21031   problem ticket employe late caus flight delay ...   \n",
       "10717   took busi class return flight amsterdam via ma...   \n",
       "\n",
       "                                         LemmatizedReview Sentiment2Cat  \\\n",
       "63608   vancouver ottawa via toronto late departure ma...      Positive   \n",
       "107537  full service serve small bun water bangkok air...      Negative   \n",
       "49937   recently fly dxb bey dxb flight leave terminal...      Positive   \n",
       "21031   problem ticket employee late cause flight dela...      Negative   \n",
       "10717   take business class return flight amsterdam vi...      Positive   \n",
       "\n",
       "       Sentiment3Cat       Sentiment4Cat  \n",
       "63608       Positive  Extremely Positive  \n",
       "107537      Negative  Extremely Negative  \n",
       "49937       Positive  Extremely Positive  \n",
       "21031       Negative  Extremely Negative  \n",
       "10717        Neutral     Mildly Positive  "
      ]
     },
     "execution_count": 163,
     "metadata": {},
     "output_type": "execute_result"
    }
   ],
   "source": [
    "mainData.sample(5)"
   ]
  },
  {
   "cell_type": "code",
   "execution_count": 164,
   "id": "ba162839",
   "metadata": {},
   "outputs": [
    {
     "data": {
      "text/html": [
       "<div>\n",
       "<style scoped>\n",
       "    .dataframe tbody tr th:only-of-type {\n",
       "        vertical-align: middle;\n",
       "    }\n",
       "\n",
       "    .dataframe tbody tr th {\n",
       "        vertical-align: top;\n",
       "    }\n",
       "\n",
       "    .dataframe thead th {\n",
       "        text-align: right;\n",
       "    }\n",
       "</style>\n",
       "<table border=\"1\" class=\"dataframe\">\n",
       "  <thead>\n",
       "    <tr style=\"text-align: right;\">\n",
       "      <th></th>\n",
       "      <th>OriginalReview</th>\n",
       "      <th>FilteredReview</th>\n",
       "      <th>StemmedReview</th>\n",
       "      <th>LemmatizedReview</th>\n",
       "      <th>Sentiment2Cat</th>\n",
       "      <th>Sentiment3Cat</th>\n",
       "      <th>Sentiment4Cat</th>\n",
       "    </tr>\n",
       "  </thead>\n",
       "  <tbody>\n",
       "  </tbody>\n",
       "</table>\n",
       "</div>"
      ],
      "text/plain": [
       "Empty DataFrame\n",
       "Columns: [OriginalReview, FilteredReview, StemmedReview, LemmatizedReview, Sentiment2Cat, Sentiment3Cat, Sentiment4Cat]\n",
       "Index: []"
      ]
     },
     "execution_count": 164,
     "metadata": {},
     "output_type": "execute_result"
    }
   ],
   "source": [
    "mainData.loc[mainData.OriginalReview == \"\", :]"
   ]
  },
  {
   "cell_type": "code",
   "execution_count": 165,
   "id": "1022d456",
   "metadata": {
    "scrolled": true
   },
   "outputs": [
    {
     "data": {
      "text/html": [
       "<div>\n",
       "<style scoped>\n",
       "    .dataframe tbody tr th:only-of-type {\n",
       "        vertical-align: middle;\n",
       "    }\n",
       "\n",
       "    .dataframe tbody tr th {\n",
       "        vertical-align: top;\n",
       "    }\n",
       "\n",
       "    .dataframe thead th {\n",
       "        text-align: right;\n",
       "    }\n",
       "</style>\n",
       "<table border=\"1\" class=\"dataframe\">\n",
       "  <thead>\n",
       "    <tr style=\"text-align: right;\">\n",
       "      <th></th>\n",
       "      <th>OriginalReview</th>\n",
       "      <th>FilteredReview</th>\n",
       "      <th>StemmedReview</th>\n",
       "      <th>LemmatizedReview</th>\n",
       "      <th>Sentiment2Cat</th>\n",
       "      <th>Sentiment3Cat</th>\n",
       "      <th>Sentiment4Cat</th>\n",
       "    </tr>\n",
       "  </thead>\n",
       "  <tbody>\n",
       "    <tr>\n",
       "      <th>6837</th>\n",
       "      <td>✅</td>\n",
       "      <td></td>\n",
       "      <td></td>\n",
       "      <td></td>\n",
       "      <td>Positive</td>\n",
       "      <td>Positive</td>\n",
       "      <td>Extremely Positive</td>\n",
       "    </tr>\n",
       "  </tbody>\n",
       "</table>\n",
       "</div>"
      ],
      "text/plain": [
       "     OriginalReview FilteredReview StemmedReview LemmatizedReview  \\\n",
       "6837              ✅                                                 \n",
       "\n",
       "     Sentiment2Cat Sentiment3Cat       Sentiment4Cat  \n",
       "6837      Positive      Positive  Extremely Positive  "
      ]
     },
     "execution_count": 165,
     "metadata": {},
     "output_type": "execute_result"
    }
   ],
   "source": [
    "mainData.loc[mainData.StemmedReview == \"\", :]"
   ]
  },
  {
   "cell_type": "code",
   "execution_count": 166,
   "id": "6304514c",
   "metadata": {},
   "outputs": [
    {
     "data": {
      "text/html": [
       "<div>\n",
       "<style scoped>\n",
       "    .dataframe tbody tr th:only-of-type {\n",
       "        vertical-align: middle;\n",
       "    }\n",
       "\n",
       "    .dataframe tbody tr th {\n",
       "        vertical-align: top;\n",
       "    }\n",
       "\n",
       "    .dataframe thead th {\n",
       "        text-align: right;\n",
       "    }\n",
       "</style>\n",
       "<table border=\"1\" class=\"dataframe\">\n",
       "  <thead>\n",
       "    <tr style=\"text-align: right;\">\n",
       "      <th></th>\n",
       "      <th>OriginalReview</th>\n",
       "      <th>FilteredReview</th>\n",
       "      <th>StemmedReview</th>\n",
       "      <th>LemmatizedReview</th>\n",
       "      <th>Sentiment2Cat</th>\n",
       "      <th>Sentiment3Cat</th>\n",
       "      <th>Sentiment4Cat</th>\n",
       "    </tr>\n",
       "  </thead>\n",
       "  <tbody>\n",
       "    <tr>\n",
       "      <th>6837</th>\n",
       "      <td>✅</td>\n",
       "      <td></td>\n",
       "      <td></td>\n",
       "      <td></td>\n",
       "      <td>Positive</td>\n",
       "      <td>Positive</td>\n",
       "      <td>Extremely Positive</td>\n",
       "    </tr>\n",
       "  </tbody>\n",
       "</table>\n",
       "</div>"
      ],
      "text/plain": [
       "     OriginalReview FilteredReview StemmedReview LemmatizedReview  \\\n",
       "6837              ✅                                                 \n",
       "\n",
       "     Sentiment2Cat Sentiment3Cat       Sentiment4Cat  \n",
       "6837      Positive      Positive  Extremely Positive  "
      ]
     },
     "execution_count": 166,
     "metadata": {},
     "output_type": "execute_result"
    }
   ],
   "source": [
    "mainData.loc[mainData.LemmatizedReview == \"\", :]"
   ]
  },
  {
   "cell_type": "code",
   "execution_count": 167,
   "id": "87ad8264",
   "metadata": {},
   "outputs": [],
   "source": [
    "mainData.drop(index=6837, inplace=True)"
   ]
  },
  {
   "cell_type": "code",
   "execution_count": 168,
   "id": "387a98b1",
   "metadata": {},
   "outputs": [],
   "source": [
    "from os import getcwd"
   ]
  },
  {
   "cell_type": "code",
   "execution_count": 169,
   "id": "0d5b55d3",
   "metadata": {},
   "outputs": [],
   "source": [
    "filePath = getcwd() + \"//FinalAirlineReviews.csv\""
   ]
  },
  {
   "cell_type": "code",
   "execution_count": 170,
   "id": "bb30ce94",
   "metadata": {},
   "outputs": [],
   "source": [
    "mainData.to_csv(path_or_buf=filePath, index=False)"
   ]
  }
 ],
 "metadata": {
  "kernelspec": {
   "display_name": "Python 3 (ipykernel)",
   "language": "python",
   "name": "python3"
  },
  "language_info": {
   "codemirror_mode": {
    "name": "ipython",
    "version": 3
   },
   "file_extension": ".py",
   "mimetype": "text/x-python",
   "name": "python",
   "nbconvert_exporter": "python",
   "pygments_lexer": "ipython3",
   "version": "3.9.13"
  }
 },
 "nbformat": 4,
 "nbformat_minor": 5
}
