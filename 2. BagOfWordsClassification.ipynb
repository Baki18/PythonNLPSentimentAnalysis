{
 "cells": [
  {
   "cell_type": "markdown",
   "id": "8ea690c2",
   "metadata": {},
   "source": [
    "# 1. Osnovne biblioteke i skup podataka za rad"
   ]
  },
  {
   "cell_type": "code",
   "execution_count": 2,
   "id": "5725ae53",
   "metadata": {},
   "outputs": [],
   "source": [
    "import pandas as pd\n",
    "import numpy as np\n",
    "from warnings import filterwarnings\n",
    "filterwarnings('ignore')"
   ]
  },
  {
   "cell_type": "code",
   "execution_count": 3,
   "id": "ac784f55",
   "metadata": {},
   "outputs": [],
   "source": [
    "pd.set_option('display.max_columns', 500)"
   ]
  },
  {
   "cell_type": "code",
   "execution_count": 4,
   "id": "a2b40567",
   "metadata": {},
   "outputs": [],
   "source": [
    "data = pd.read_csv('FinalAirlineReviews.csv')"
   ]
  },
  {
   "cell_type": "code",
   "execution_count": 5,
   "id": "88493c0e",
   "metadata": {
    "scrolled": true
   },
   "outputs": [
    {
     "data": {
      "text/html": [
       "<div>\n",
       "<style scoped>\n",
       "    .dataframe tbody tr th:only-of-type {\n",
       "        vertical-align: middle;\n",
       "    }\n",
       "\n",
       "    .dataframe tbody tr th {\n",
       "        vertical-align: top;\n",
       "    }\n",
       "\n",
       "    .dataframe thead th {\n",
       "        text-align: right;\n",
       "    }\n",
       "</style>\n",
       "<table border=\"1\" class=\"dataframe\">\n",
       "  <thead>\n",
       "    <tr style=\"text-align: right;\">\n",
       "      <th></th>\n",
       "      <th>OriginalReview</th>\n",
       "      <th>FilteredReview</th>\n",
       "      <th>StemmedReview</th>\n",
       "      <th>LemmatizedReview</th>\n",
       "      <th>Sentiment2Cat</th>\n",
       "      <th>Sentiment3Cat</th>\n",
       "      <th>Sentiment4Cat</th>\n",
       "    </tr>\n",
       "  </thead>\n",
       "  <tbody>\n",
       "    <tr>\n",
       "      <th>74365</th>\n",
       "      <td>Flight from MUC to ORD Economy Class on Airbus...</td>\n",
       "      <td>flight muc ord economy class airbus windows se...</td>\n",
       "      <td>flight muc ord economi class airbu window seat...</td>\n",
       "      <td>flight muc ord economy class airbus windows se...</td>\n",
       "      <td>Negative</td>\n",
       "      <td>Negative</td>\n",
       "      <td>Extremely Negative</td>\n",
       "    </tr>\n",
       "    <tr>\n",
       "      <th>69903</th>\n",
       "      <td>Overall the flight was modest. The check-in wa...</td>\n",
       "      <td>overall flight modest check done using web che...</td>\n",
       "      <td>overal flight modest check done use web check ...</td>\n",
       "      <td>overall flight modest check do use web check s...</td>\n",
       "      <td>Positive</td>\n",
       "      <td>Positive</td>\n",
       "      <td>Extremely Positive</td>\n",
       "    </tr>\n",
       "    <tr>\n",
       "      <th>116429</th>\n",
       "      <td>Istanbul to Bucharest. We make our check in in...</td>\n",
       "      <td>istanbul bucharest make check airport take lug...</td>\n",
       "      <td>istanbul bucharest make check airport take lug...</td>\n",
       "      <td>istanbul bucharest make check airport take lug...</td>\n",
       "      <td>Negative</td>\n",
       "      <td>Negative</td>\n",
       "      <td>Extremely Negative</td>\n",
       "    </tr>\n",
       "    <tr>\n",
       "      <th>28650</th>\n",
       "      <td>I had nine flights with Avianca this summer to...</td>\n",
       "      <td>nine flights avianca summer around latin ameri...</td>\n",
       "      <td>nine flight avianca summer around latin americ...</td>\n",
       "      <td>nine flight avianca summer around latin americ...</td>\n",
       "      <td>Positive</td>\n",
       "      <td>Positive</td>\n",
       "      <td>Extremely Positive</td>\n",
       "    </tr>\n",
       "    <tr>\n",
       "      <th>13468</th>\n",
       "      <td>AI 864 from BOM-IXC via DEL. A321 with decent ...</td>\n",
       "      <td>ai bom ixc via del decent leg space slightly l...</td>\n",
       "      <td>ai bom ixc via del decent leg space slightli l...</td>\n",
       "      <td>ai bom ixc via del decent leg space slightly l...</td>\n",
       "      <td>Positive</td>\n",
       "      <td>Neutral</td>\n",
       "      <td>Mildly Positive</td>\n",
       "    </tr>\n",
       "  </tbody>\n",
       "</table>\n",
       "</div>"
      ],
      "text/plain": [
       "                                           OriginalReview  \\\n",
       "74365   Flight from MUC to ORD Economy Class on Airbus...   \n",
       "69903   Overall the flight was modest. The check-in wa...   \n",
       "116429  Istanbul to Bucharest. We make our check in in...   \n",
       "28650   I had nine flights with Avianca this summer to...   \n",
       "13468   AI 864 from BOM-IXC via DEL. A321 with decent ...   \n",
       "\n",
       "                                           FilteredReview  \\\n",
       "74365   flight muc ord economy class airbus windows se...   \n",
       "69903   overall flight modest check done using web che...   \n",
       "116429  istanbul bucharest make check airport take lug...   \n",
       "28650   nine flights avianca summer around latin ameri...   \n",
       "13468   ai bom ixc via del decent leg space slightly l...   \n",
       "\n",
       "                                            StemmedReview  \\\n",
       "74365   flight muc ord economi class airbu window seat...   \n",
       "69903   overal flight modest check done use web check ...   \n",
       "116429  istanbul bucharest make check airport take lug...   \n",
       "28650   nine flight avianca summer around latin americ...   \n",
       "13468   ai bom ixc via del decent leg space slightli l...   \n",
       "\n",
       "                                         LemmatizedReview Sentiment2Cat  \\\n",
       "74365   flight muc ord economy class airbus windows se...      Negative   \n",
       "69903   overall flight modest check do use web check s...      Positive   \n",
       "116429  istanbul bucharest make check airport take lug...      Negative   \n",
       "28650   nine flight avianca summer around latin americ...      Positive   \n",
       "13468   ai bom ixc via del decent leg space slightly l...      Positive   \n",
       "\n",
       "       Sentiment3Cat       Sentiment4Cat  \n",
       "74365       Negative  Extremely Negative  \n",
       "69903       Positive  Extremely Positive  \n",
       "116429      Negative  Extremely Negative  \n",
       "28650       Positive  Extremely Positive  \n",
       "13468        Neutral     Mildly Positive  "
      ]
     },
     "execution_count": 5,
     "metadata": {},
     "output_type": "execute_result"
    }
   ],
   "source": [
    "data.sample(5)"
   ]
  },
  {
   "cell_type": "markdown",
   "id": "81597a3b",
   "metadata": {},
   "source": [
    "# 2. Bag of Words Models"
   ]
  },
  {
   "cell_type": "code",
   "execution_count": 6,
   "id": "11ad406d",
   "metadata": {},
   "outputs": [],
   "source": [
    "from enum import Enum"
   ]
  },
  {
   "cell_type": "code",
   "execution_count": 7,
   "id": "ead46193",
   "metadata": {},
   "outputs": [],
   "source": [
    "class ReviewType(Enum):\n",
    "    Filtered = 1,\n",
    "    Stemmed = 2,\n",
    "    Lemmatized = 3"
   ]
  },
  {
   "cell_type": "code",
   "execution_count": 8,
   "id": "c27c3e5e",
   "metadata": {},
   "outputs": [],
   "source": [
    "from sklearn.feature_extraction.text import CountVectorizer\n",
    "\n",
    "def bagOfWordsDataFrame(reviewType: ReviewType, numOfSentiments: int, maxFeatures: int):\n",
    "    \n",
    "    reviewAttribute = \"\"\n",
    "    sentimentAttribute = \"\"\n",
    "    \n",
    "    if reviewType == ReviewType.Filtered:\n",
    "        reviewAttribute = \"FilteredReview\"\n",
    "    elif reviewType == ReviewType.Stemmed:\n",
    "        reviewAttribute = \"StemmedReview\"\n",
    "    elif reviewType == ReviewType.Lemmatized:\n",
    "        reviewAttribute = \"LemmatizedReview\"\n",
    "    \n",
    "    if numOfSentiments == 2:\n",
    "        sentimentAttribute = \"Sentiment2Cat\"\n",
    "    elif numOfSentiments == 3:\n",
    "        sentimentAttribute = \"Sentiment3Cat\"\n",
    "    elif numOfSentiments == 4:\n",
    "        sentimentAttribute = \"Sentiment4Cat\"\n",
    "    \n",
    "    reviewList = data[reviewAttribute].to_list()\n",
    "    \n",
    "    countVector = CountVectorizer(max_features=maxFeatures)\n",
    "    \n",
    "    wordVectors = countVector.fit_transform(reviewList)\n",
    "    featureNames = countVector.get_feature_names_out()\n",
    "    \n",
    "    bowDataFrame = pd.DataFrame(wordVectors.toarray(), columns=featureNames)\n",
    "    \n",
    "    sentimentColumn = data[sentimentAttribute]\n",
    "    \n",
    "    bowDataFrame = pd.concat([bowDataFrame, sentimentColumn], axis=1)\n",
    "    \n",
    "    return bowDataFrame"
   ]
  },
  {
   "cell_type": "code",
   "execution_count": 9,
   "id": "9a5ac698",
   "metadata": {},
   "outputs": [],
   "source": [
    "bow = bagOfWordsDataFrame(ReviewType.Filtered, 2, 100)"
   ]
  },
  {
   "cell_type": "code",
   "execution_count": 10,
   "id": "58f248cb",
   "metadata": {},
   "outputs": [
    {
     "data": {
      "text/html": [
       "<div>\n",
       "<style scoped>\n",
       "    .dataframe tbody tr th:only-of-type {\n",
       "        vertical-align: middle;\n",
       "    }\n",
       "\n",
       "    .dataframe tbody tr th {\n",
       "        vertical-align: top;\n",
       "    }\n",
       "\n",
       "    .dataframe thead th {\n",
       "        text-align: right;\n",
       "    }\n",
       "</style>\n",
       "<table border=\"1\" class=\"dataframe\">\n",
       "  <thead>\n",
       "    <tr style=\"text-align: right;\">\n",
       "      <th></th>\n",
       "      <th>air</th>\n",
       "      <th>aircraft</th>\n",
       "      <th>airline</th>\n",
       "      <th>airlines</th>\n",
       "      <th>airport</th>\n",
       "      <th>also</th>\n",
       "      <th>another</th>\n",
       "      <th>arrived</th>\n",
       "      <th>asked</th>\n",
       "      <th>back</th>\n",
       "      <th>bag</th>\n",
       "      <th>baggage</th>\n",
       "      <th>better</th>\n",
       "      <th>board</th>\n",
       "      <th>boarding</th>\n",
       "      <th>booked</th>\n",
       "      <th>business</th>\n",
       "      <th>cabin</th>\n",
       "      <th>cancelled</th>\n",
       "      <th>check</th>\n",
       "      <th>class</th>\n",
       "      <th>comfortable</th>\n",
       "      <th>could</th>\n",
       "      <th>crew</th>\n",
       "      <th>customer</th>\n",
       "      <th>day</th>\n",
       "      <th>delay</th>\n",
       "      <th>delayed</th>\n",
       "      <th>drinks</th>\n",
       "      <th>due</th>\n",
       "      <th>economy</th>\n",
       "      <th>entertainment</th>\n",
       "      <th>even</th>\n",
       "      <th>experience</th>\n",
       "      <th>extra</th>\n",
       "      <th>first</th>\n",
       "      <th>flew</th>\n",
       "      <th>flight</th>\n",
       "      <th>flights</th>\n",
       "      <th>fly</th>\n",
       "      <th>flying</th>\n",
       "      <th>food</th>\n",
       "      <th>friendly</th>\n",
       "      <th>gate</th>\n",
       "      <th>get</th>\n",
       "      <th>go</th>\n",
       "      <th>good</th>\n",
       "      <th>got</th>\n",
       "      <th>great</th>\n",
       "      <th>hour</th>\n",
       "      <th>hours</th>\n",
       "      <th>however</th>\n",
       "      <th>last</th>\n",
       "      <th>late</th>\n",
       "      <th>left</th>\n",
       "      <th>leg</th>\n",
       "      <th>like</th>\n",
       "      <th>long</th>\n",
       "      <th>luggage</th>\n",
       "      <th>made</th>\n",
       "      <th>make</th>\n",
       "      <th>meal</th>\n",
       "      <th>minutes</th>\n",
       "      <th>money</th>\n",
       "      <th>much</th>\n",
       "      <th>never</th>\n",
       "      <th>new</th>\n",
       "      <th>next</th>\n",
       "      <th>nice</th>\n",
       "      <th>no</th>\n",
       "      <th>not</th>\n",
       "      <th>one</th>\n",
       "      <th>paid</th>\n",
       "      <th>passengers</th>\n",
       "      <th>pay</th>\n",
       "      <th>people</th>\n",
       "      <th>plane</th>\n",
       "      <th>really</th>\n",
       "      <th>return</th>\n",
       "      <th>said</th>\n",
       "      <th>seat</th>\n",
       "      <th>seats</th>\n",
       "      <th>service</th>\n",
       "      <th>staff</th>\n",
       "      <th>still</th>\n",
       "      <th>take</th>\n",
       "      <th>ticket</th>\n",
       "      <th>time</th>\n",
       "      <th>times</th>\n",
       "      <th>told</th>\n",
       "      <th>took</th>\n",
       "      <th>trip</th>\n",
       "      <th>two</th>\n",
       "      <th>us</th>\n",
       "      <th>use</th>\n",
       "      <th>via</th>\n",
       "      <th>way</th>\n",
       "      <th>well</th>\n",
       "      <th>worst</th>\n",
       "      <th>would</th>\n",
       "      <th>Sentiment2Cat</th>\n",
       "    </tr>\n",
       "  </thead>\n",
       "  <tbody>\n",
       "    <tr>\n",
       "      <th>48754</th>\n",
       "      <td>0</td>\n",
       "      <td>0</td>\n",
       "      <td>0</td>\n",
       "      <td>0</td>\n",
       "      <td>0</td>\n",
       "      <td>0</td>\n",
       "      <td>0</td>\n",
       "      <td>0</td>\n",
       "      <td>0</td>\n",
       "      <td>0</td>\n",
       "      <td>0</td>\n",
       "      <td>0</td>\n",
       "      <td>0</td>\n",
       "      <td>1</td>\n",
       "      <td>2</td>\n",
       "      <td>0</td>\n",
       "      <td>0</td>\n",
       "      <td>0</td>\n",
       "      <td>0</td>\n",
       "      <td>0</td>\n",
       "      <td>0</td>\n",
       "      <td>0</td>\n",
       "      <td>3</td>\n",
       "      <td>0</td>\n",
       "      <td>0</td>\n",
       "      <td>0</td>\n",
       "      <td>0</td>\n",
       "      <td>0</td>\n",
       "      <td>0</td>\n",
       "      <td>0</td>\n",
       "      <td>0</td>\n",
       "      <td>0</td>\n",
       "      <td>0</td>\n",
       "      <td>0</td>\n",
       "      <td>0</td>\n",
       "      <td>0</td>\n",
       "      <td>0</td>\n",
       "      <td>4</td>\n",
       "      <td>0</td>\n",
       "      <td>0</td>\n",
       "      <td>0</td>\n",
       "      <td>0</td>\n",
       "      <td>0</td>\n",
       "      <td>0</td>\n",
       "      <td>0</td>\n",
       "      <td>0</td>\n",
       "      <td>0</td>\n",
       "      <td>0</td>\n",
       "      <td>0</td>\n",
       "      <td>0</td>\n",
       "      <td>0</td>\n",
       "      <td>0</td>\n",
       "      <td>0</td>\n",
       "      <td>1</td>\n",
       "      <td>0</td>\n",
       "      <td>0</td>\n",
       "      <td>0</td>\n",
       "      <td>0</td>\n",
       "      <td>0</td>\n",
       "      <td>0</td>\n",
       "      <td>1</td>\n",
       "      <td>0</td>\n",
       "      <td>1</td>\n",
       "      <td>0</td>\n",
       "      <td>0</td>\n",
       "      <td>0</td>\n",
       "      <td>0</td>\n",
       "      <td>0</td>\n",
       "      <td>0</td>\n",
       "      <td>0</td>\n",
       "      <td>0</td>\n",
       "      <td>0</td>\n",
       "      <td>0</td>\n",
       "      <td>0</td>\n",
       "      <td>0</td>\n",
       "      <td>0</td>\n",
       "      <td>0</td>\n",
       "      <td>0</td>\n",
       "      <td>0</td>\n",
       "      <td>0</td>\n",
       "      <td>0</td>\n",
       "      <td>0</td>\n",
       "      <td>0</td>\n",
       "      <td>1</td>\n",
       "      <td>0</td>\n",
       "      <td>0</td>\n",
       "      <td>0</td>\n",
       "      <td>1</td>\n",
       "      <td>0</td>\n",
       "      <td>1</td>\n",
       "      <td>0</td>\n",
       "      <td>0</td>\n",
       "      <td>0</td>\n",
       "      <td>2</td>\n",
       "      <td>0</td>\n",
       "      <td>0</td>\n",
       "      <td>0</td>\n",
       "      <td>0</td>\n",
       "      <td>0</td>\n",
       "      <td>0</td>\n",
       "      <td>Negative</td>\n",
       "    </tr>\n",
       "    <tr>\n",
       "      <th>26434</th>\n",
       "      <td>0</td>\n",
       "      <td>0</td>\n",
       "      <td>0</td>\n",
       "      <td>0</td>\n",
       "      <td>0</td>\n",
       "      <td>0</td>\n",
       "      <td>0</td>\n",
       "      <td>0</td>\n",
       "      <td>0</td>\n",
       "      <td>0</td>\n",
       "      <td>0</td>\n",
       "      <td>0</td>\n",
       "      <td>0</td>\n",
       "      <td>0</td>\n",
       "      <td>0</td>\n",
       "      <td>0</td>\n",
       "      <td>0</td>\n",
       "      <td>0</td>\n",
       "      <td>0</td>\n",
       "      <td>0</td>\n",
       "      <td>0</td>\n",
       "      <td>0</td>\n",
       "      <td>0</td>\n",
       "      <td>0</td>\n",
       "      <td>0</td>\n",
       "      <td>0</td>\n",
       "      <td>0</td>\n",
       "      <td>0</td>\n",
       "      <td>0</td>\n",
       "      <td>0</td>\n",
       "      <td>0</td>\n",
       "      <td>0</td>\n",
       "      <td>0</td>\n",
       "      <td>0</td>\n",
       "      <td>0</td>\n",
       "      <td>0</td>\n",
       "      <td>0</td>\n",
       "      <td>0</td>\n",
       "      <td>1</td>\n",
       "      <td>0</td>\n",
       "      <td>0</td>\n",
       "      <td>0</td>\n",
       "      <td>0</td>\n",
       "      <td>0</td>\n",
       "      <td>0</td>\n",
       "      <td>0</td>\n",
       "      <td>1</td>\n",
       "      <td>0</td>\n",
       "      <td>1</td>\n",
       "      <td>0</td>\n",
       "      <td>0</td>\n",
       "      <td>0</td>\n",
       "      <td>0</td>\n",
       "      <td>0</td>\n",
       "      <td>1</td>\n",
       "      <td>0</td>\n",
       "      <td>0</td>\n",
       "      <td>0</td>\n",
       "      <td>0</td>\n",
       "      <td>0</td>\n",
       "      <td>0</td>\n",
       "      <td>0</td>\n",
       "      <td>0</td>\n",
       "      <td>0</td>\n",
       "      <td>0</td>\n",
       "      <td>0</td>\n",
       "      <td>0</td>\n",
       "      <td>0</td>\n",
       "      <td>0</td>\n",
       "      <td>0</td>\n",
       "      <td>0</td>\n",
       "      <td>0</td>\n",
       "      <td>0</td>\n",
       "      <td>0</td>\n",
       "      <td>0</td>\n",
       "      <td>0</td>\n",
       "      <td>0</td>\n",
       "      <td>0</td>\n",
       "      <td>1</td>\n",
       "      <td>0</td>\n",
       "      <td>0</td>\n",
       "      <td>0</td>\n",
       "      <td>0</td>\n",
       "      <td>0</td>\n",
       "      <td>0</td>\n",
       "      <td>0</td>\n",
       "      <td>0</td>\n",
       "      <td>0</td>\n",
       "      <td>0</td>\n",
       "      <td>0</td>\n",
       "      <td>0</td>\n",
       "      <td>0</td>\n",
       "      <td>0</td>\n",
       "      <td>0</td>\n",
       "      <td>0</td>\n",
       "      <td>0</td>\n",
       "      <td>0</td>\n",
       "      <td>0</td>\n",
       "      <td>0</td>\n",
       "      <td>0</td>\n",
       "      <td>Positive</td>\n",
       "    </tr>\n",
       "    <tr>\n",
       "      <th>77835</th>\n",
       "      <td>0</td>\n",
       "      <td>0</td>\n",
       "      <td>0</td>\n",
       "      <td>0</td>\n",
       "      <td>1</td>\n",
       "      <td>0</td>\n",
       "      <td>0</td>\n",
       "      <td>0</td>\n",
       "      <td>0</td>\n",
       "      <td>0</td>\n",
       "      <td>0</td>\n",
       "      <td>0</td>\n",
       "      <td>0</td>\n",
       "      <td>0</td>\n",
       "      <td>0</td>\n",
       "      <td>0</td>\n",
       "      <td>0</td>\n",
       "      <td>1</td>\n",
       "      <td>0</td>\n",
       "      <td>2</td>\n",
       "      <td>0</td>\n",
       "      <td>1</td>\n",
       "      <td>0</td>\n",
       "      <td>0</td>\n",
       "      <td>0</td>\n",
       "      <td>0</td>\n",
       "      <td>1</td>\n",
       "      <td>0</td>\n",
       "      <td>0</td>\n",
       "      <td>0</td>\n",
       "      <td>0</td>\n",
       "      <td>0</td>\n",
       "      <td>0</td>\n",
       "      <td>0</td>\n",
       "      <td>0</td>\n",
       "      <td>0</td>\n",
       "      <td>0</td>\n",
       "      <td>3</td>\n",
       "      <td>0</td>\n",
       "      <td>0</td>\n",
       "      <td>0</td>\n",
       "      <td>0</td>\n",
       "      <td>0</td>\n",
       "      <td>0</td>\n",
       "      <td>0</td>\n",
       "      <td>2</td>\n",
       "      <td>0</td>\n",
       "      <td>0</td>\n",
       "      <td>0</td>\n",
       "      <td>0</td>\n",
       "      <td>0</td>\n",
       "      <td>0</td>\n",
       "      <td>0</td>\n",
       "      <td>0</td>\n",
       "      <td>0</td>\n",
       "      <td>0</td>\n",
       "      <td>0</td>\n",
       "      <td>0</td>\n",
       "      <td>0</td>\n",
       "      <td>0</td>\n",
       "      <td>0</td>\n",
       "      <td>0</td>\n",
       "      <td>0</td>\n",
       "      <td>0</td>\n",
       "      <td>0</td>\n",
       "      <td>0</td>\n",
       "      <td>0</td>\n",
       "      <td>0</td>\n",
       "      <td>0</td>\n",
       "      <td>1</td>\n",
       "      <td>1</td>\n",
       "      <td>0</td>\n",
       "      <td>0</td>\n",
       "      <td>0</td>\n",
       "      <td>0</td>\n",
       "      <td>0</td>\n",
       "      <td>0</td>\n",
       "      <td>0</td>\n",
       "      <td>0</td>\n",
       "      <td>0</td>\n",
       "      <td>0</td>\n",
       "      <td>2</td>\n",
       "      <td>0</td>\n",
       "      <td>0</td>\n",
       "      <td>1</td>\n",
       "      <td>0</td>\n",
       "      <td>0</td>\n",
       "      <td>0</td>\n",
       "      <td>0</td>\n",
       "      <td>0</td>\n",
       "      <td>0</td>\n",
       "      <td>0</td>\n",
       "      <td>0</td>\n",
       "      <td>0</td>\n",
       "      <td>0</td>\n",
       "      <td>0</td>\n",
       "      <td>0</td>\n",
       "      <td>0</td>\n",
       "      <td>0</td>\n",
       "      <td>0</td>\n",
       "      <td>Positive</td>\n",
       "    </tr>\n",
       "    <tr>\n",
       "      <th>36811</th>\n",
       "      <td>0</td>\n",
       "      <td>0</td>\n",
       "      <td>0</td>\n",
       "      <td>1</td>\n",
       "      <td>1</td>\n",
       "      <td>0</td>\n",
       "      <td>0</td>\n",
       "      <td>1</td>\n",
       "      <td>0</td>\n",
       "      <td>1</td>\n",
       "      <td>0</td>\n",
       "      <td>0</td>\n",
       "      <td>0</td>\n",
       "      <td>0</td>\n",
       "      <td>1</td>\n",
       "      <td>0</td>\n",
       "      <td>0</td>\n",
       "      <td>0</td>\n",
       "      <td>0</td>\n",
       "      <td>1</td>\n",
       "      <td>0</td>\n",
       "      <td>0</td>\n",
       "      <td>0</td>\n",
       "      <td>0</td>\n",
       "      <td>0</td>\n",
       "      <td>0</td>\n",
       "      <td>0</td>\n",
       "      <td>0</td>\n",
       "      <td>0</td>\n",
       "      <td>0</td>\n",
       "      <td>0</td>\n",
       "      <td>0</td>\n",
       "      <td>0</td>\n",
       "      <td>0</td>\n",
       "      <td>0</td>\n",
       "      <td>0</td>\n",
       "      <td>0</td>\n",
       "      <td>2</td>\n",
       "      <td>0</td>\n",
       "      <td>0</td>\n",
       "      <td>0</td>\n",
       "      <td>0</td>\n",
       "      <td>0</td>\n",
       "      <td>0</td>\n",
       "      <td>0</td>\n",
       "      <td>0</td>\n",
       "      <td>0</td>\n",
       "      <td>0</td>\n",
       "      <td>0</td>\n",
       "      <td>0</td>\n",
       "      <td>1</td>\n",
       "      <td>0</td>\n",
       "      <td>0</td>\n",
       "      <td>0</td>\n",
       "      <td>0</td>\n",
       "      <td>0</td>\n",
       "      <td>0</td>\n",
       "      <td>0</td>\n",
       "      <td>0</td>\n",
       "      <td>0</td>\n",
       "      <td>0</td>\n",
       "      <td>0</td>\n",
       "      <td>0</td>\n",
       "      <td>0</td>\n",
       "      <td>0</td>\n",
       "      <td>0</td>\n",
       "      <td>2</td>\n",
       "      <td>0</td>\n",
       "      <td>0</td>\n",
       "      <td>0</td>\n",
       "      <td>1</td>\n",
       "      <td>0</td>\n",
       "      <td>0</td>\n",
       "      <td>0</td>\n",
       "      <td>0</td>\n",
       "      <td>0</td>\n",
       "      <td>0</td>\n",
       "      <td>0</td>\n",
       "      <td>0</td>\n",
       "      <td>0</td>\n",
       "      <td>0</td>\n",
       "      <td>0</td>\n",
       "      <td>0</td>\n",
       "      <td>2</td>\n",
       "      <td>0</td>\n",
       "      <td>0</td>\n",
       "      <td>0</td>\n",
       "      <td>1</td>\n",
       "      <td>0</td>\n",
       "      <td>1</td>\n",
       "      <td>1</td>\n",
       "      <td>0</td>\n",
       "      <td>0</td>\n",
       "      <td>2</td>\n",
       "      <td>0</td>\n",
       "      <td>0</td>\n",
       "      <td>0</td>\n",
       "      <td>0</td>\n",
       "      <td>0</td>\n",
       "      <td>0</td>\n",
       "      <td>Positive</td>\n",
       "    </tr>\n",
       "    <tr>\n",
       "      <th>87945</th>\n",
       "      <td>0</td>\n",
       "      <td>0</td>\n",
       "      <td>0</td>\n",
       "      <td>0</td>\n",
       "      <td>0</td>\n",
       "      <td>1</td>\n",
       "      <td>0</td>\n",
       "      <td>0</td>\n",
       "      <td>0</td>\n",
       "      <td>0</td>\n",
       "      <td>0</td>\n",
       "      <td>0</td>\n",
       "      <td>0</td>\n",
       "      <td>0</td>\n",
       "      <td>1</td>\n",
       "      <td>0</td>\n",
       "      <td>0</td>\n",
       "      <td>0</td>\n",
       "      <td>0</td>\n",
       "      <td>2</td>\n",
       "      <td>0</td>\n",
       "      <td>0</td>\n",
       "      <td>0</td>\n",
       "      <td>0</td>\n",
       "      <td>0</td>\n",
       "      <td>0</td>\n",
       "      <td>0</td>\n",
       "      <td>0</td>\n",
       "      <td>0</td>\n",
       "      <td>1</td>\n",
       "      <td>0</td>\n",
       "      <td>0</td>\n",
       "      <td>1</td>\n",
       "      <td>0</td>\n",
       "      <td>0</td>\n",
       "      <td>0</td>\n",
       "      <td>0</td>\n",
       "      <td>2</td>\n",
       "      <td>1</td>\n",
       "      <td>0</td>\n",
       "      <td>0</td>\n",
       "      <td>0</td>\n",
       "      <td>0</td>\n",
       "      <td>0</td>\n",
       "      <td>0</td>\n",
       "      <td>0</td>\n",
       "      <td>0</td>\n",
       "      <td>0</td>\n",
       "      <td>0</td>\n",
       "      <td>0</td>\n",
       "      <td>0</td>\n",
       "      <td>1</td>\n",
       "      <td>1</td>\n",
       "      <td>0</td>\n",
       "      <td>0</td>\n",
       "      <td>0</td>\n",
       "      <td>0</td>\n",
       "      <td>0</td>\n",
       "      <td>0</td>\n",
       "      <td>0</td>\n",
       "      <td>0</td>\n",
       "      <td>0</td>\n",
       "      <td>0</td>\n",
       "      <td>0</td>\n",
       "      <td>0</td>\n",
       "      <td>0</td>\n",
       "      <td>0</td>\n",
       "      <td>0</td>\n",
       "      <td>0</td>\n",
       "      <td>0</td>\n",
       "      <td>1</td>\n",
       "      <td>0</td>\n",
       "      <td>0</td>\n",
       "      <td>0</td>\n",
       "      <td>1</td>\n",
       "      <td>1</td>\n",
       "      <td>0</td>\n",
       "      <td>0</td>\n",
       "      <td>0</td>\n",
       "      <td>0</td>\n",
       "      <td>1</td>\n",
       "      <td>2</td>\n",
       "      <td>0</td>\n",
       "      <td>0</td>\n",
       "      <td>0</td>\n",
       "      <td>0</td>\n",
       "      <td>0</td>\n",
       "      <td>3</td>\n",
       "      <td>1</td>\n",
       "      <td>0</td>\n",
       "      <td>0</td>\n",
       "      <td>0</td>\n",
       "      <td>0</td>\n",
       "      <td>0</td>\n",
       "      <td>1</td>\n",
       "      <td>0</td>\n",
       "      <td>0</td>\n",
       "      <td>0</td>\n",
       "      <td>0</td>\n",
       "      <td>0</td>\n",
       "      <td>Negative</td>\n",
       "    </tr>\n",
       "  </tbody>\n",
       "</table>\n",
       "</div>"
      ],
      "text/plain": [
       "       air  aircraft  airline  airlines  airport  also  another  arrived  \\\n",
       "48754    0         0        0         0        0     0        0        0   \n",
       "26434    0         0        0         0        0     0        0        0   \n",
       "77835    0         0        0         0        1     0        0        0   \n",
       "36811    0         0        0         1        1     0        0        1   \n",
       "87945    0         0        0         0        0     1        0        0   \n",
       "\n",
       "       asked  back  bag  baggage  better  board  boarding  booked  business  \\\n",
       "48754      0     0    0        0       0      1         2       0         0   \n",
       "26434      0     0    0        0       0      0         0       0         0   \n",
       "77835      0     0    0        0       0      0         0       0         0   \n",
       "36811      0     1    0        0       0      0         1       0         0   \n",
       "87945      0     0    0        0       0      0         1       0         0   \n",
       "\n",
       "       cabin  cancelled  check  class  comfortable  could  crew  customer  \\\n",
       "48754      0          0      0      0            0      3     0         0   \n",
       "26434      0          0      0      0            0      0     0         0   \n",
       "77835      1          0      2      0            1      0     0         0   \n",
       "36811      0          0      1      0            0      0     0         0   \n",
       "87945      0          0      2      0            0      0     0         0   \n",
       "\n",
       "       day  delay  delayed  drinks  due  economy  entertainment  even  \\\n",
       "48754    0      0        0       0    0        0              0     0   \n",
       "26434    0      0        0       0    0        0              0     0   \n",
       "77835    0      1        0       0    0        0              0     0   \n",
       "36811    0      0        0       0    0        0              0     0   \n",
       "87945    0      0        0       0    1        0              0     1   \n",
       "\n",
       "       experience  extra  first  flew  flight  flights  fly  flying  food  \\\n",
       "48754           0      0      0     0       4        0    0       0     0   \n",
       "26434           0      0      0     0       0        1    0       0     0   \n",
       "77835           0      0      0     0       3        0    0       0     0   \n",
       "36811           0      0      0     0       2        0    0       0     0   \n",
       "87945           0      0      0     0       2        1    0       0     0   \n",
       "\n",
       "       friendly  gate  get  go  good  got  great  hour  hours  however  last  \\\n",
       "48754         0     0    0   0     0    0      0     0      0        0     0   \n",
       "26434         0     0    0   0     1    0      1     0      0        0     0   \n",
       "77835         0     0    0   2     0    0      0     0      0        0     0   \n",
       "36811         0     0    0   0     0    0      0     0      1        0     0   \n",
       "87945         0     0    0   0     0    0      0     0      0        1     1   \n",
       "\n",
       "       late  left  leg  like  long  luggage  made  make  meal  minutes  money  \\\n",
       "48754     1     0    0     0     0        0     0     1     0        1      0   \n",
       "26434     0     1    0     0     0        0     0     0     0        0      0   \n",
       "77835     0     0    0     0     0        0     0     0     0        0      0   \n",
       "36811     0     0    0     0     0        0     0     0     0        0      0   \n",
       "87945     0     0    0     0     0        0     0     0     0        0      0   \n",
       "\n",
       "       much  never  new  next  nice  no  not  one  paid  passengers  pay  \\\n",
       "48754     0      0    0     0     0   0    0    0     0           0    0   \n",
       "26434     0      0    0     0     0   0    0    0     0           0    0   \n",
       "77835     0      0    0     0     0   1    1    0     0           0    0   \n",
       "36811     0      0    2     0     0   0    1    0     0           0    0   \n",
       "87945     0      0    0     0     0   0    1    0     0           0    1   \n",
       "\n",
       "       people  plane  really  return  said  seat  seats  service  staff  \\\n",
       "48754       0      0       0       0     0     0      0        0      1   \n",
       "26434       0      0       0       1     0     0      0        0      0   \n",
       "77835       0      0       0       0     0     0      2        0      0   \n",
       "36811       0      0       0       0     0     0      0        0      2   \n",
       "87945       1      0       0       0     0     1      2        0      0   \n",
       "\n",
       "       still  take  ticket  time  times  told  took  trip  two  us  use  via  \\\n",
       "48754      0     0       0     1      0     1     0     0    0   2    0    0   \n",
       "26434      0     0       0     0      0     0     0     0    0   0    0    0   \n",
       "77835      1     0       0     0      0     0     0     0    0   0    0    0   \n",
       "36811      0     0       0     1      0     1     1     0    0   2    0    0   \n",
       "87945      0     0       0     3      1     0     0     0    0   0    1    0   \n",
       "\n",
       "       way  well  worst  would Sentiment2Cat  \n",
       "48754    0     0      0      0      Negative  \n",
       "26434    0     0      0      0      Positive  \n",
       "77835    0     0      0      0      Positive  \n",
       "36811    0     0      0      0      Positive  \n",
       "87945    0     0      0      0      Negative  "
      ]
     },
     "execution_count": 10,
     "metadata": {},
     "output_type": "execute_result"
    }
   ],
   "source": [
    "bow.sample(5)"
   ]
  },
  {
   "cell_type": "code",
   "execution_count": 11,
   "id": "b35dfc60",
   "metadata": {},
   "outputs": [],
   "source": [
    "from sklearn.model_selection import train_test_split\n",
    "from sklearn.metrics import accuracy_score, precision_score, recall_score, f1_score, roc_auc_score\n",
    "\n",
    "def getEvaluationMetrics(model, reviewType: ReviewType, numOfSentiments: int, maxFeatures: int):\n",
    "    \n",
    "    bowData = bagOfWordsDataFrame(reviewType, numOfSentiments, maxFeatures)\n",
    "    x, y = bowData.iloc[:, :-1], bowData.iloc[:, -1]\n",
    "    #x.drop(columns=['no', 'not'], inplace=True)\n",
    "    \n",
    "    xtr, xtest, ytr, ytest = train_test_split(x, y, test_size=0.25, random_state=18)\n",
    "    \n",
    "    model.fit(xtr, ytr)\n",
    "    \n",
    "    predictionNB = model.predict(xtest)\n",
    "    \n",
    "    acc = accuracy_score(predictionNB, ytest)\n",
    "    prec = precision_score(predictionNB, ytest, average='weighted')\n",
    "    recall = recall_score(predictionNB, ytest, average='weighted')\n",
    "    f1 = f1_score(predictionNB, ytest, average='weighted')\n",
    "    \n",
    "    return acc, prec, recall, f1"
   ]
  },
  {
   "cell_type": "code",
   "execution_count": 12,
   "id": "ac950764",
   "metadata": {},
   "outputs": [],
   "source": [
    "from sklearn.naive_bayes import GaussianNB\n",
    "\n",
    "def metricLists(start: int, stop: int, step: int):\n",
    "    \n",
    "    accList, precList, recallList, f1List = list(), list(), list(), list()\n",
    "\n",
    "    for numOfFeatures in range(start, stop, step):\n",
    "\n",
    "        naiveBayes = GaussianNB()\n",
    "\n",
    "        acc, prec, recall, f1 = getEvaluationMetrics(naiveBayes, ReviewType.Stemmed, 2, numOfFeatures)\n",
    "\n",
    "        accList.append(acc)\n",
    "        precList.append(prec)\n",
    "        recallList.append(recall)\n",
    "        f1List.append(f1)\n",
    "        \n",
    "    return accList, precList, recallList, f1List"
   ]
  },
  {
   "cell_type": "markdown",
   "id": "c326bdb8",
   "metadata": {},
   "source": [
    "# 3. Classification Models"
   ]
  },
  {
   "cell_type": "code",
   "execution_count": 13,
   "id": "d6ef75d8",
   "metadata": {},
   "outputs": [],
   "source": [
    "#ucitavamo neophodne biblioteke evaluaciju modela klasifikacije\n",
    "\n",
    "from sklearn.metrics import accuracy_score, precision_score, recall_score, f1_score, roc_auc_score\n",
    "from sklearn.metrics import classification_report\n",
    "from sklearn.model_selection import GridSearchCV"
   ]
  },
  {
   "cell_type": "code",
   "execution_count": 25,
   "id": "69ec1db8",
   "metadata": {},
   "outputs": [],
   "source": [
    "bowData = bagOfWordsDataFrame(ReviewType.Filtered, 4, 1000)"
   ]
  },
  {
   "cell_type": "code",
   "execution_count": 26,
   "id": "3246b06a",
   "metadata": {},
   "outputs": [],
   "source": [
    "x, y = bowData.iloc[:, :-1], bowData.iloc[:, -1]"
   ]
  },
  {
   "cell_type": "code",
   "execution_count": 27,
   "id": "e478bf01",
   "metadata": {},
   "outputs": [],
   "source": [
    "from sklearn.model_selection import train_test_split\n",
    "from sklearn.metrics import accuracy_score, precision_score, recall_score, f1_score, roc_auc_score, classification_report"
   ]
  },
  {
   "cell_type": "code",
   "execution_count": 28,
   "id": "95a1ce90",
   "metadata": {},
   "outputs": [],
   "source": [
    "xtr, xtest, ytr, ytest = train_test_split(x, y, test_size=0.25, random_state=18)"
   ]
  },
  {
   "cell_type": "markdown",
   "id": "9e981409",
   "metadata": {},
   "source": [
    "## 3.1 Naive Bayes Model"
   ]
  },
  {
   "cell_type": "code",
   "execution_count": 62,
   "id": "3b6f4c1b",
   "metadata": {},
   "outputs": [],
   "source": [
    "#ucitavamo biblioteke za rad sa Naivnim Bajesom\n",
    "\n",
    "from sklearn.naive_bayes import GaussianNB, ComplementNB, MultinomialNB"
   ]
  },
  {
   "cell_type": "code",
   "execution_count": 67,
   "id": "466571ee",
   "metadata": {},
   "outputs": [],
   "source": [
    "naiveBayes = GaussianNB()"
   ]
  },
  {
   "cell_type": "code",
   "execution_count": 68,
   "id": "c0c923c0",
   "metadata": {},
   "outputs": [
    {
     "data": {
      "text/plain": [
       "GaussianNB()"
      ]
     },
     "execution_count": 68,
     "metadata": {},
     "output_type": "execute_result"
    }
   ],
   "source": [
    "naiveBayes.fit(xtr, ytr)"
   ]
  },
  {
   "cell_type": "code",
   "execution_count": 69,
   "id": "2d7323b2",
   "metadata": {},
   "outputs": [
    {
     "data": {
      "text/plain": [
       "array(['Positive', 'Positive', 'Negative', ..., 'Positive', 'Negative',\n",
       "       'Positive'], dtype='<U8')"
      ]
     },
     "execution_count": 69,
     "metadata": {},
     "output_type": "execute_result"
    }
   ],
   "source": [
    "predictionNB = naiveBayes.predict(xtest)\n",
    "predictionNB"
   ]
  },
  {
   "cell_type": "code",
   "execution_count": 70,
   "id": "6bed819e",
   "metadata": {
    "scrolled": true
   },
   "outputs": [
    {
     "name": "stdout",
     "output_type": "stream",
     "text": [
      "Model's accuracy is: 79.44%\n",
      "Model's precision is: 81.63%\n",
      "Model's recall is: 79.44%\n",
      "Model's f1 is: 79.29%\n"
     ]
    }
   ],
   "source": [
    "print(f\"Model's accuracy is: {round(accuracy_score(predictionNB, ytest), 4)*100}%\")\n",
    "print(f\"Model's precision is: {round(precision_score(predictionNB, ytest, average='weighted'), 4)*100}%\")\n",
    "print(f\"Model's recall is: {round(recall_score(predictionNB, ytest, average='weighted'), 4)*100}%\")\n",
    "print(f\"Model's f1 is: {round(f1_score(predictionNB, ytest, average='weighted'), 4)*100}%\")"
   ]
  },
  {
   "cell_type": "code",
   "execution_count": 71,
   "id": "a9e201fe",
   "metadata": {
    "scrolled": true
   },
   "outputs": [
    {
     "name": "stdout",
     "output_type": "stream",
     "text": [
      "              precision    recall  f1-score   support\n",
      "\n",
      "    Negative       0.72      0.91      0.81     14556\n",
      "    Positive       0.90      0.69      0.78     16519\n",
      "\n",
      "    accuracy                           0.79     31075\n",
      "   macro avg       0.81      0.80      0.79     31075\n",
      "weighted avg       0.82      0.79      0.79     31075\n",
      "\n"
     ]
    }
   ],
   "source": [
    "print(classification_report(predictionNB, ytest))"
   ]
  },
  {
   "cell_type": "markdown",
   "id": "91dc2bc4",
   "metadata": {},
   "source": [
    "## 3.2 Decision Tree Model"
   ]
  },
  {
   "cell_type": "code",
   "execution_count": 72,
   "id": "493105ce",
   "metadata": {},
   "outputs": [],
   "source": [
    "from sklearn.tree import DecisionTreeClassifier"
   ]
  },
  {
   "cell_type": "code",
   "execution_count": 73,
   "id": "e541d93b",
   "metadata": {},
   "outputs": [],
   "source": [
    "dtModel = DecisionTreeClassifier()"
   ]
  },
  {
   "cell_type": "code",
   "execution_count": 74,
   "id": "258385cf",
   "metadata": {},
   "outputs": [
    {
     "data": {
      "text/plain": [
       "DecisionTreeClassifier()"
      ]
     },
     "execution_count": 74,
     "metadata": {},
     "output_type": "execute_result"
    }
   ],
   "source": [
    "dtModel.fit(xtr, ytr)"
   ]
  },
  {
   "cell_type": "code",
   "execution_count": 76,
   "id": "2b686213",
   "metadata": {},
   "outputs": [
    {
     "data": {
      "text/plain": [
       "array(['Positive', 'Negative', 'Negative', ..., 'Positive', 'Negative',\n",
       "       'Positive'], dtype=object)"
      ]
     },
     "execution_count": 76,
     "metadata": {},
     "output_type": "execute_result"
    }
   ],
   "source": [
    "predictionDT = dtModel.predict(xtest)\n",
    "predictionDT"
   ]
  },
  {
   "cell_type": "code",
   "execution_count": 78,
   "id": "f3a09517",
   "metadata": {},
   "outputs": [
    {
     "name": "stdout",
     "output_type": "stream",
     "text": [
      "Model's accuracy is: 82.14%\n",
      "Model's precision is: 82.13000000000001%\n",
      "Model's recall is: 82.14%\n",
      "Model's f1 is: 82.14%\n"
     ]
    }
   ],
   "source": [
    "print(f\"Model's accuracy is: {round(accuracy_score(predictionDT, ytest), 4)*100}%\")\n",
    "print(f\"Model's precision is: {round(precision_score(predictionDT, ytest, average='weighted'), 4)*100}%\")\n",
    "print(f\"Model's recall is: {round(recall_score(predictionDT, ytest, average='weighted'), 4)*100}%\")\n",
    "print(f\"Model's f1 is: {round(f1_score(predictionDT, ytest, average='weighted'), 4)*100}%\")"
   ]
  },
  {
   "cell_type": "code",
   "execution_count": 79,
   "id": "974f6ad9",
   "metadata": {
    "scrolled": true
   },
   "outputs": [
    {
     "name": "stdout",
     "output_type": "stream",
     "text": [
      "              precision    recall  f1-score   support\n",
      "\n",
      "    Negative       0.85      0.85      0.85     18346\n",
      "    Positive       0.78      0.78      0.78     12729\n",
      "\n",
      "    accuracy                           0.82     31075\n",
      "   macro avg       0.82      0.82      0.82     31075\n",
      "weighted avg       0.82      0.82      0.82     31075\n",
      "\n"
     ]
    }
   ],
   "source": [
    "print(classification_report(predictionDT, ytest))"
   ]
  },
  {
   "cell_type": "markdown",
   "id": "e52cf2ed",
   "metadata": {},
   "source": [
    "## 3.3 Logistic Regression Model"
   ]
  },
  {
   "cell_type": "code",
   "execution_count": 29,
   "id": "a7898832",
   "metadata": {},
   "outputs": [],
   "source": [
    "from sklearn.linear_model import LogisticRegression"
   ]
  },
  {
   "cell_type": "code",
   "execution_count": 30,
   "id": "ddd0cb73",
   "metadata": {},
   "outputs": [],
   "source": [
    "lrModel = LogisticRegression()"
   ]
  },
  {
   "cell_type": "code",
   "execution_count": 31,
   "id": "7398ec8c",
   "metadata": {},
   "outputs": [
    {
     "data": {
      "text/plain": [
       "LogisticRegression()"
      ]
     },
     "execution_count": 31,
     "metadata": {},
     "output_type": "execute_result"
    }
   ],
   "source": [
    "lrModel.fit(xtr, ytr)"
   ]
  },
  {
   "cell_type": "code",
   "execution_count": 32,
   "id": "02287ecd",
   "metadata": {},
   "outputs": [
    {
     "data": {
      "text/plain": [
       "array(['Extremely Positive', 'Extremely Positive', 'Extremely Negative',\n",
       "       ..., 'Extremely Positive', 'Extremely Positive',\n",
       "       'Extremely Positive'], dtype=object)"
      ]
     },
     "execution_count": 32,
     "metadata": {},
     "output_type": "execute_result"
    }
   ],
   "source": [
    "predictionLR = lrModel.predict(xtest)\n",
    "predictionLR"
   ]
  },
  {
   "cell_type": "code",
   "execution_count": 33,
   "id": "fc0b138c",
   "metadata": {},
   "outputs": [
    {
     "name": "stdout",
     "output_type": "stream",
     "text": [
      "Model's accuracy is: 83.84%\n",
      "Model's precision is: 91.16%\n",
      "Model's recall is: 83.84%\n",
      "Model's f1 is: 87.14%\n"
     ]
    }
   ],
   "source": [
    "print(f\"Model's accuracy is: {round(accuracy_score(predictionLR, ytest), 4)*100}%\")\n",
    "print(f\"Model's precision is: {round(precision_score(predictionLR, ytest, average='weighted'), 4)*100}%\")\n",
    "print(f\"Model's recall is: {round(recall_score(predictionLR, ytest, average='weighted'), 4)*100}%\")\n",
    "print(f\"Model's f1 is: {round(f1_score(predictionLR, ytest, average='weighted'), 4)*100}%\")"
   ]
  },
  {
   "cell_type": "code",
   "execution_count": 34,
   "id": "e822147d",
   "metadata": {
    "scrolled": true
   },
   "outputs": [
    {
     "name": "stdout",
     "output_type": "stream",
     "text": [
      "                    precision    recall  f1-score   support\n",
      "\n",
      "Extremely Negative       0.95      0.86      0.90     17436\n",
      "Extremely Positive       0.93      0.84      0.88     12671\n",
      "   Mildly Negative       0.10      0.33      0.16       781\n",
      "   Mildly Positive       0.02      0.15      0.04       187\n",
      "\n",
      "          accuracy                           0.84     31075\n",
      "         macro avg       0.50      0.55      0.50     31075\n",
      "      weighted avg       0.91      0.84      0.87     31075\n",
      "\n"
     ]
    }
   ],
   "source": [
    "print(classification_report(predictionLR, ytest))"
   ]
  },
  {
   "cell_type": "markdown",
   "id": "ee56746b",
   "metadata": {},
   "source": [
    "## 3.4 Gradient Boosting Model"
   ]
  },
  {
   "cell_type": "code",
   "execution_count": 86,
   "id": "763bc508",
   "metadata": {},
   "outputs": [],
   "source": [
    "from sklearn.ensemble import GradientBoostingClassifier"
   ]
  },
  {
   "cell_type": "code",
   "execution_count": 87,
   "id": "6fbf7c34",
   "metadata": {},
   "outputs": [],
   "source": [
    "gbModel = GradientBoostingClassifier()"
   ]
  },
  {
   "cell_type": "code",
   "execution_count": 88,
   "id": "ee7e44c8",
   "metadata": {},
   "outputs": [
    {
     "data": {
      "text/plain": [
       "GradientBoostingClassifier()"
      ]
     },
     "execution_count": 88,
     "metadata": {},
     "output_type": "execute_result"
    }
   ],
   "source": [
    "gbModel.fit(xtr, ytr)"
   ]
  },
  {
   "cell_type": "code",
   "execution_count": 90,
   "id": "d5bee2f3",
   "metadata": {},
   "outputs": [
    {
     "data": {
      "text/plain": [
       "array(['Positive', 'Negative', 'Negative', ..., 'Negative', 'Positive',\n",
       "       'Positive'], dtype=object)"
      ]
     },
     "execution_count": 90,
     "metadata": {},
     "output_type": "execute_result"
    }
   ],
   "source": [
    "predictionGB = gbModel.predict(xtest)\n",
    "predictionGB"
   ]
  },
  {
   "cell_type": "code",
   "execution_count": 91,
   "id": "c63f5a15",
   "metadata": {},
   "outputs": [
    {
     "name": "stdout",
     "output_type": "stream",
     "text": [
      "Model's accuracy is: 88.37%\n",
      "Model's precision is: 88.66000000000001%\n",
      "Model's recall is: 88.37%\n",
      "Model's f1 is: 88.44999999999999%\n"
     ]
    }
   ],
   "source": [
    "print(f\"Model's accuracy is: {round(accuracy_score(predictionGB, ytest), 4)*100}%\")\n",
    "print(f\"Model's precision is: {round(precision_score(predictionGB, ytest, average='weighted'), 4)*100}%\")\n",
    "print(f\"Model's recall is: {round(recall_score(predictionGB, ytest, average='weighted'), 4)*100}%\")\n",
    "print(f\"Model's f1 is: {round(f1_score(predictionGB, ytest, average='weighted'), 4)*100}%\")"
   ]
  },
  {
   "cell_type": "code",
   "execution_count": 92,
   "id": "b288ff63",
   "metadata": {},
   "outputs": [
    {
     "name": "stdout",
     "output_type": "stream",
     "text": [
      "              precision    recall  f1-score   support\n",
      "\n",
      "    Negative       0.93      0.88      0.90     19261\n",
      "    Positive       0.82      0.88      0.85     11814\n",
      "\n",
      "    accuracy                           0.88     31075\n",
      "   macro avg       0.87      0.88      0.88     31075\n",
      "weighted avg       0.89      0.88      0.88     31075\n",
      "\n"
     ]
    }
   ],
   "source": [
    "print(classification_report(predictionGB, ytest))"
   ]
  }
 ],
 "metadata": {
  "kernelspec": {
   "display_name": "Python 3 (ipykernel)",
   "language": "python",
   "name": "python3"
  },
  "language_info": {
   "codemirror_mode": {
    "name": "ipython",
    "version": 3
   },
   "file_extension": ".py",
   "mimetype": "text/x-python",
   "name": "python",
   "nbconvert_exporter": "python",
   "pygments_lexer": "ipython3",
   "version": "3.9.13"
  }
 },
 "nbformat": 4,
 "nbformat_minor": 5
}
